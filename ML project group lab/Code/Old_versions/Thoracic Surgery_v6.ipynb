{
 "cells": [
  {
   "cell_type": "markdown",
   "metadata": {},
   "source": [
    "### Loading the dataset"
   ]
  },
  {
   "cell_type": "code",
   "execution_count": 1,
   "metadata": {},
   "outputs": [],
   "source": [
    "import pandas as pd\n",
    "import numpy as np\n",
    "import seaborn as sns\n",
    "import matplotlib.pyplot as plt\n",
    "from collections import Counter\n",
    "import matplotlib.gridspec as gridspec"
   ]
  },
  {
   "cell_type": "code",
   "execution_count": 2,
   "metadata": {},
   "outputs": [],
   "source": [
    "surgery = pd.read_csv(\"ThoraricSurgery.csv\")"
   ]
  },
  {
   "cell_type": "code",
   "execution_count": 3,
   "metadata": {},
   "outputs": [
    {
     "data": {
      "text/html": [
       "<div>\n",
       "<style scoped>\n",
       "    .dataframe tbody tr th:only-of-type {\n",
       "        vertical-align: middle;\n",
       "    }\n",
       "\n",
       "    .dataframe tbody tr th {\n",
       "        vertical-align: top;\n",
       "    }\n",
       "\n",
       "    .dataframe thead th {\n",
       "        text-align: right;\n",
       "    }\n",
       "</style>\n",
       "<table border=\"1\" class=\"dataframe\">\n",
       "  <thead>\n",
       "    <tr style=\"text-align: right;\">\n",
       "      <th></th>\n",
       "      <th>id</th>\n",
       "      <th>DGN</th>\n",
       "      <th>PRE4</th>\n",
       "      <th>PRE5</th>\n",
       "      <th>PRE6</th>\n",
       "      <th>PRE7</th>\n",
       "      <th>PRE8</th>\n",
       "      <th>PRE9</th>\n",
       "      <th>PRE10</th>\n",
       "      <th>PRE11</th>\n",
       "      <th>PRE14</th>\n",
       "      <th>PRE17</th>\n",
       "      <th>PRE19</th>\n",
       "      <th>PRE25</th>\n",
       "      <th>PRE30</th>\n",
       "      <th>PRE32</th>\n",
       "      <th>AGE</th>\n",
       "      <th>Risk1Yr</th>\n",
       "    </tr>\n",
       "  </thead>\n",
       "  <tbody>\n",
       "    <tr>\n",
       "      <th>0</th>\n",
       "      <td>1</td>\n",
       "      <td>DGN2</td>\n",
       "      <td>2.88</td>\n",
       "      <td>2.16</td>\n",
       "      <td>PRZ1</td>\n",
       "      <td>F</td>\n",
       "      <td>F</td>\n",
       "      <td>F</td>\n",
       "      <td>T</td>\n",
       "      <td>T</td>\n",
       "      <td>OC14</td>\n",
       "      <td>F</td>\n",
       "      <td>F</td>\n",
       "      <td>F</td>\n",
       "      <td>T</td>\n",
       "      <td>F</td>\n",
       "      <td>60</td>\n",
       "      <td>F</td>\n",
       "    </tr>\n",
       "    <tr>\n",
       "      <th>1</th>\n",
       "      <td>2</td>\n",
       "      <td>DGN3</td>\n",
       "      <td>3.40</td>\n",
       "      <td>1.88</td>\n",
       "      <td>PRZ0</td>\n",
       "      <td>F</td>\n",
       "      <td>F</td>\n",
       "      <td>F</td>\n",
       "      <td>F</td>\n",
       "      <td>F</td>\n",
       "      <td>OC12</td>\n",
       "      <td>F</td>\n",
       "      <td>F</td>\n",
       "      <td>F</td>\n",
       "      <td>T</td>\n",
       "      <td>F</td>\n",
       "      <td>51</td>\n",
       "      <td>F</td>\n",
       "    </tr>\n",
       "    <tr>\n",
       "      <th>2</th>\n",
       "      <td>3</td>\n",
       "      <td>DGN3</td>\n",
       "      <td>2.76</td>\n",
       "      <td>2.08</td>\n",
       "      <td>PRZ1</td>\n",
       "      <td>F</td>\n",
       "      <td>F</td>\n",
       "      <td>F</td>\n",
       "      <td>T</td>\n",
       "      <td>F</td>\n",
       "      <td>OC11</td>\n",
       "      <td>F</td>\n",
       "      <td>F</td>\n",
       "      <td>F</td>\n",
       "      <td>T</td>\n",
       "      <td>F</td>\n",
       "      <td>59</td>\n",
       "      <td>F</td>\n",
       "    </tr>\n",
       "    <tr>\n",
       "      <th>3</th>\n",
       "      <td>4</td>\n",
       "      <td>DGN3</td>\n",
       "      <td>3.68</td>\n",
       "      <td>3.04</td>\n",
       "      <td>PRZ0</td>\n",
       "      <td>F</td>\n",
       "      <td>F</td>\n",
       "      <td>F</td>\n",
       "      <td>F</td>\n",
       "      <td>F</td>\n",
       "      <td>OC11</td>\n",
       "      <td>F</td>\n",
       "      <td>F</td>\n",
       "      <td>F</td>\n",
       "      <td>F</td>\n",
       "      <td>F</td>\n",
       "      <td>54</td>\n",
       "      <td>F</td>\n",
       "    </tr>\n",
       "    <tr>\n",
       "      <th>4</th>\n",
       "      <td>5</td>\n",
       "      <td>DGN3</td>\n",
       "      <td>2.44</td>\n",
       "      <td>0.96</td>\n",
       "      <td>PRZ2</td>\n",
       "      <td>F</td>\n",
       "      <td>T</td>\n",
       "      <td>F</td>\n",
       "      <td>T</td>\n",
       "      <td>T</td>\n",
       "      <td>OC11</td>\n",
       "      <td>F</td>\n",
       "      <td>F</td>\n",
       "      <td>F</td>\n",
       "      <td>T</td>\n",
       "      <td>F</td>\n",
       "      <td>73</td>\n",
       "      <td>T</td>\n",
       "    </tr>\n",
       "  </tbody>\n",
       "</table>\n",
       "</div>"
      ],
      "text/plain": [
       "   id   DGN  PRE4  PRE5  PRE6 PRE7 PRE8 PRE9 PRE10 PRE11 PRE14 PRE17 PRE19  \\\n",
       "0   1  DGN2  2.88  2.16  PRZ1    F    F    F     T     T  OC14     F     F   \n",
       "1   2  DGN3  3.40  1.88  PRZ0    F    F    F     F     F  OC12     F     F   \n",
       "2   3  DGN3  2.76  2.08  PRZ1    F    F    F     T     F  OC11     F     F   \n",
       "3   4  DGN3  3.68  3.04  PRZ0    F    F    F     F     F  OC11     F     F   \n",
       "4   5  DGN3  2.44  0.96  PRZ2    F    T    F     T     T  OC11     F     F   \n",
       "\n",
       "  PRE25 PRE30 PRE32  AGE Risk1Yr  \n",
       "0     F     T     F   60       F  \n",
       "1     F     T     F   51       F  \n",
       "2     F     T     F   59       F  \n",
       "3     F     F     F   54       F  \n",
       "4     F     T     F   73       T  "
      ]
     },
     "execution_count": 3,
     "metadata": {},
     "output_type": "execute_result"
    }
   ],
   "source": [
    "surgery.head()"
   ]
  },
  {
   "cell_type": "code",
   "execution_count": 4,
   "metadata": {},
   "outputs": [
    {
     "data": {
      "text/html": [
       "<div>\n",
       "<style scoped>\n",
       "    .dataframe tbody tr th:only-of-type {\n",
       "        vertical-align: middle;\n",
       "    }\n",
       "\n",
       "    .dataframe tbody tr th {\n",
       "        vertical-align: top;\n",
       "    }\n",
       "\n",
       "    .dataframe thead th {\n",
       "        text-align: right;\n",
       "    }\n",
       "</style>\n",
       "<table border=\"1\" class=\"dataframe\">\n",
       "  <thead>\n",
       "    <tr style=\"text-align: right;\">\n",
       "      <th></th>\n",
       "      <th>id</th>\n",
       "      <th>DGN</th>\n",
       "      <th>PRE4</th>\n",
       "      <th>PRE5</th>\n",
       "      <th>PRE6</th>\n",
       "      <th>PRE7</th>\n",
       "      <th>PRE8</th>\n",
       "      <th>PRE9</th>\n",
       "      <th>PRE10</th>\n",
       "      <th>PRE11</th>\n",
       "      <th>PRE14</th>\n",
       "      <th>PRE17</th>\n",
       "      <th>PRE19</th>\n",
       "      <th>PRE25</th>\n",
       "      <th>PRE30</th>\n",
       "      <th>PRE32</th>\n",
       "      <th>AGE</th>\n",
       "      <th>Risk1Yr</th>\n",
       "    </tr>\n",
       "  </thead>\n",
       "  <tbody>\n",
       "    <tr>\n",
       "      <th>465</th>\n",
       "      <td>466</td>\n",
       "      <td>DGN2</td>\n",
       "      <td>3.88</td>\n",
       "      <td>2.12</td>\n",
       "      <td>PRZ1</td>\n",
       "      <td>F</td>\n",
       "      <td>F</td>\n",
       "      <td>F</td>\n",
       "      <td>T</td>\n",
       "      <td>F</td>\n",
       "      <td>OC13</td>\n",
       "      <td>F</td>\n",
       "      <td>F</td>\n",
       "      <td>F</td>\n",
       "      <td>T</td>\n",
       "      <td>F</td>\n",
       "      <td>63</td>\n",
       "      <td>F</td>\n",
       "    </tr>\n",
       "    <tr>\n",
       "      <th>466</th>\n",
       "      <td>467</td>\n",
       "      <td>DGN3</td>\n",
       "      <td>3.76</td>\n",
       "      <td>3.12</td>\n",
       "      <td>PRZ0</td>\n",
       "      <td>F</td>\n",
       "      <td>F</td>\n",
       "      <td>F</td>\n",
       "      <td>F</td>\n",
       "      <td>F</td>\n",
       "      <td>OC11</td>\n",
       "      <td>F</td>\n",
       "      <td>F</td>\n",
       "      <td>F</td>\n",
       "      <td>T</td>\n",
       "      <td>F</td>\n",
       "      <td>61</td>\n",
       "      <td>F</td>\n",
       "    </tr>\n",
       "    <tr>\n",
       "      <th>467</th>\n",
       "      <td>468</td>\n",
       "      <td>DGN3</td>\n",
       "      <td>3.04</td>\n",
       "      <td>2.08</td>\n",
       "      <td>PRZ1</td>\n",
       "      <td>F</td>\n",
       "      <td>F</td>\n",
       "      <td>F</td>\n",
       "      <td>T</td>\n",
       "      <td>F</td>\n",
       "      <td>OC13</td>\n",
       "      <td>F</td>\n",
       "      <td>F</td>\n",
       "      <td>F</td>\n",
       "      <td>F</td>\n",
       "      <td>F</td>\n",
       "      <td>52</td>\n",
       "      <td>F</td>\n",
       "    </tr>\n",
       "    <tr>\n",
       "      <th>468</th>\n",
       "      <td>469</td>\n",
       "      <td>DGN3</td>\n",
       "      <td>1.96</td>\n",
       "      <td>1.68</td>\n",
       "      <td>PRZ1</td>\n",
       "      <td>F</td>\n",
       "      <td>F</td>\n",
       "      <td>F</td>\n",
       "      <td>T</td>\n",
       "      <td>T</td>\n",
       "      <td>OC12</td>\n",
       "      <td>F</td>\n",
       "      <td>F</td>\n",
       "      <td>F</td>\n",
       "      <td>T</td>\n",
       "      <td>F</td>\n",
       "      <td>79</td>\n",
       "      <td>F</td>\n",
       "    </tr>\n",
       "    <tr>\n",
       "      <th>469</th>\n",
       "      <td>470</td>\n",
       "      <td>DGN3</td>\n",
       "      <td>4.72</td>\n",
       "      <td>3.56</td>\n",
       "      <td>PRZ0</td>\n",
       "      <td>F</td>\n",
       "      <td>F</td>\n",
       "      <td>F</td>\n",
       "      <td>F</td>\n",
       "      <td>F</td>\n",
       "      <td>OC12</td>\n",
       "      <td>F</td>\n",
       "      <td>F</td>\n",
       "      <td>F</td>\n",
       "      <td>T</td>\n",
       "      <td>F</td>\n",
       "      <td>51</td>\n",
       "      <td>F</td>\n",
       "    </tr>\n",
       "  </tbody>\n",
       "</table>\n",
       "</div>"
      ],
      "text/plain": [
       "      id   DGN  PRE4  PRE5  PRE6 PRE7 PRE8 PRE9 PRE10 PRE11 PRE14 PRE17 PRE19  \\\n",
       "465  466  DGN2  3.88  2.12  PRZ1    F    F    F     T     F  OC13     F     F   \n",
       "466  467  DGN3  3.76  3.12  PRZ0    F    F    F     F     F  OC11     F     F   \n",
       "467  468  DGN3  3.04  2.08  PRZ1    F    F    F     T     F  OC13     F     F   \n",
       "468  469  DGN3  1.96  1.68  PRZ1    F    F    F     T     T  OC12     F     F   \n",
       "469  470  DGN3  4.72  3.56  PRZ0    F    F    F     F     F  OC12     F     F   \n",
       "\n",
       "    PRE25 PRE30 PRE32  AGE Risk1Yr  \n",
       "465     F     T     F   63       F  \n",
       "466     F     T     F   61       F  \n",
       "467     F     F     F   52       F  \n",
       "468     F     T     F   79       F  \n",
       "469     F     T     F   51       F  "
      ]
     },
     "execution_count": 4,
     "metadata": {},
     "output_type": "execute_result"
    }
   ],
   "source": [
    "surgery.tail()"
   ]
  },
  {
   "cell_type": "markdown",
   "metadata": {},
   "source": [
    "#### To remove warnings "
   ]
  },
  {
   "cell_type": "code",
   "execution_count": 5,
   "metadata": {},
   "outputs": [],
   "source": [
    "import warnings\n",
    "warnings.filterwarnings('ignore')"
   ]
  },
  {
   "cell_type": "markdown",
   "metadata": {},
   "source": [
    "### Descriptive statistics"
   ]
  },
  {
   "cell_type": "code",
   "execution_count": 6,
   "metadata": {},
   "outputs": [
    {
     "data": {
      "text/html": [
       "<div>\n",
       "<style scoped>\n",
       "    .dataframe tbody tr th:only-of-type {\n",
       "        vertical-align: middle;\n",
       "    }\n",
       "\n",
       "    .dataframe tbody tr th {\n",
       "        vertical-align: top;\n",
       "    }\n",
       "\n",
       "    .dataframe thead th {\n",
       "        text-align: right;\n",
       "    }\n",
       "</style>\n",
       "<table border=\"1\" class=\"dataframe\">\n",
       "  <thead>\n",
       "    <tr style=\"text-align: right;\">\n",
       "      <th></th>\n",
       "      <th>id</th>\n",
       "      <th>PRE4</th>\n",
       "      <th>PRE5</th>\n",
       "      <th>AGE</th>\n",
       "    </tr>\n",
       "  </thead>\n",
       "  <tbody>\n",
       "    <tr>\n",
       "      <th>count</th>\n",
       "      <td>470.000000</td>\n",
       "      <td>470.000000</td>\n",
       "      <td>470.000000</td>\n",
       "      <td>470.000000</td>\n",
       "    </tr>\n",
       "    <tr>\n",
       "      <th>mean</th>\n",
       "      <td>235.500000</td>\n",
       "      <td>3.281638</td>\n",
       "      <td>4.568702</td>\n",
       "      <td>62.534043</td>\n",
       "    </tr>\n",
       "    <tr>\n",
       "      <th>std</th>\n",
       "      <td>135.821574</td>\n",
       "      <td>0.871395</td>\n",
       "      <td>11.767857</td>\n",
       "      <td>8.706902</td>\n",
       "    </tr>\n",
       "    <tr>\n",
       "      <th>min</th>\n",
       "      <td>1.000000</td>\n",
       "      <td>1.440000</td>\n",
       "      <td>0.960000</td>\n",
       "      <td>21.000000</td>\n",
       "    </tr>\n",
       "    <tr>\n",
       "      <th>25%</th>\n",
       "      <td>118.250000</td>\n",
       "      <td>2.600000</td>\n",
       "      <td>1.960000</td>\n",
       "      <td>57.000000</td>\n",
       "    </tr>\n",
       "    <tr>\n",
       "      <th>50%</th>\n",
       "      <td>235.500000</td>\n",
       "      <td>3.160000</td>\n",
       "      <td>2.400000</td>\n",
       "      <td>62.000000</td>\n",
       "    </tr>\n",
       "    <tr>\n",
       "      <th>75%</th>\n",
       "      <td>352.750000</td>\n",
       "      <td>3.807500</td>\n",
       "      <td>3.080000</td>\n",
       "      <td>69.000000</td>\n",
       "    </tr>\n",
       "    <tr>\n",
       "      <th>max</th>\n",
       "      <td>470.000000</td>\n",
       "      <td>6.300000</td>\n",
       "      <td>86.300000</td>\n",
       "      <td>87.000000</td>\n",
       "    </tr>\n",
       "  </tbody>\n",
       "</table>\n",
       "</div>"
      ],
      "text/plain": [
       "               id        PRE4        PRE5         AGE\n",
       "count  470.000000  470.000000  470.000000  470.000000\n",
       "mean   235.500000    3.281638    4.568702   62.534043\n",
       "std    135.821574    0.871395   11.767857    8.706902\n",
       "min      1.000000    1.440000    0.960000   21.000000\n",
       "25%    118.250000    2.600000    1.960000   57.000000\n",
       "50%    235.500000    3.160000    2.400000   62.000000\n",
       "75%    352.750000    3.807500    3.080000   69.000000\n",
       "max    470.000000    6.300000   86.300000   87.000000"
      ]
     },
     "execution_count": 6,
     "metadata": {},
     "output_type": "execute_result"
    }
   ],
   "source": [
    "surgery.describe()"
   ]
  },
  {
   "cell_type": "markdown",
   "metadata": {},
   "source": [
    "### Number of rows and columns"
   ]
  },
  {
   "cell_type": "code",
   "execution_count": 7,
   "metadata": {},
   "outputs": [
    {
     "data": {
      "text/plain": [
       "(470, 18)"
      ]
     },
     "execution_count": 7,
     "metadata": {},
     "output_type": "execute_result"
    }
   ],
   "source": [
    "surgery.shape"
   ]
  },
  {
   "cell_type": "code",
   "execution_count": 8,
   "metadata": {},
   "outputs": [
    {
     "name": "stdout",
     "output_type": "stream",
     "text": [
      "number of duplicate rows:  (0, 18)\n"
     ]
    }
   ],
   "source": [
    "duplicate_rows = surgery[surgery.duplicated()]\n",
    "print(\"number of duplicate rows: \", duplicate_rows.shape)"
   ]
  },
  {
   "cell_type": "markdown",
   "metadata": {},
   "source": [
    "### Understanding the data set"
   ]
  },
  {
   "cell_type": "markdown",
   "metadata": {},
   "source": [
    "#### Description of the features in the dataset."
   ]
  },
  {
   "cell_type": "code",
   "execution_count": 9,
   "metadata": {},
   "outputs": [
    {
     "data": {
      "text/html": [
       "<style  type=\"text/css\" >\n",
       "</style><table id=\"T_cc09f733_2769_11eb_8fab_58961d662145\" ><thead>    <tr>        <th class=\"blank level0\" ></th>        <th class=\"col_heading level0 col0\" >Attributes</th>        <th class=\"col_heading level0 col1\" >Description</th>    </tr></thead><tbody>\n",
       "                <tr>\n",
       "                        <th id=\"T_cc09f733_2769_11eb_8fab_58961d662145level0_row0\" class=\"row_heading level0 row0\" >0</th>\n",
       "                        <td id=\"T_cc09f733_2769_11eb_8fab_58961d662145row0_col0\" class=\"data row0 col0\" >DGN</td>\n",
       "                        <td id=\"T_cc09f733_2769_11eb_8fab_58961d662145row0_col1\" class=\"data row0 col1\" >Diagnosis - specific combination of ICD-10 codes for primary and secondary as well multiple tumours if any (DGN3,DGN2,DGN4,DGN6,DGN5,DGN8,DGN1)</td>\n",
       "            </tr>\n",
       "            <tr>\n",
       "                        <th id=\"T_cc09f733_2769_11eb_8fab_58961d662145level0_row1\" class=\"row_heading level0 row1\" >1</th>\n",
       "                        <td id=\"T_cc09f733_2769_11eb_8fab_58961d662145row1_col0\" class=\"data row1 col0\" >PRE4</td>\n",
       "                        <td id=\"T_cc09f733_2769_11eb_8fab_58961d662145row1_col1\" class=\"data row1 col1\" >Forced Vital Capacity - FVC (numeric)</td>\n",
       "            </tr>\n",
       "            <tr>\n",
       "                        <th id=\"T_cc09f733_2769_11eb_8fab_58961d662145level0_row2\" class=\"row_heading level0 row2\" >2</th>\n",
       "                        <td id=\"T_cc09f733_2769_11eb_8fab_58961d662145row2_col0\" class=\"data row2 col0\" >PRE5</td>\n",
       "                        <td id=\"T_cc09f733_2769_11eb_8fab_58961d662145row2_col1\" class=\"data row2 col1\" >Volume that has been exhaled at the end of the first second of forced expiration - FEV1 (numeric)</td>\n",
       "            </tr>\n",
       "            <tr>\n",
       "                        <th id=\"T_cc09f733_2769_11eb_8fab_58961d662145level0_row3\" class=\"row_heading level0 row3\" >3</th>\n",
       "                        <td id=\"T_cc09f733_2769_11eb_8fab_58961d662145row3_col0\" class=\"data row3 col0\" >PRE6</td>\n",
       "                        <td id=\"T_cc09f733_2769_11eb_8fab_58961d662145row3_col1\" class=\"data row3 col1\" >Performance status - Zubrod scale (PRZ2,PRZ1,PRZ0)</td>\n",
       "            </tr>\n",
       "            <tr>\n",
       "                        <th id=\"T_cc09f733_2769_11eb_8fab_58961d662145level0_row4\" class=\"row_heading level0 row4\" >4</th>\n",
       "                        <td id=\"T_cc09f733_2769_11eb_8fab_58961d662145row4_col0\" class=\"data row4 col0\" >PRE7</td>\n",
       "                        <td id=\"T_cc09f733_2769_11eb_8fab_58961d662145row4_col1\" class=\"data row4 col1\" >Pain before surgery (T,F)</td>\n",
       "            </tr>\n",
       "            <tr>\n",
       "                        <th id=\"T_cc09f733_2769_11eb_8fab_58961d662145level0_row5\" class=\"row_heading level0 row5\" >5</th>\n",
       "                        <td id=\"T_cc09f733_2769_11eb_8fab_58961d662145row5_col0\" class=\"data row5 col0\" >PRE8</td>\n",
       "                        <td id=\"T_cc09f733_2769_11eb_8fab_58961d662145row5_col1\" class=\"data row5 col1\" >Haemoptysis before surgery (T,F)</td>\n",
       "            </tr>\n",
       "            <tr>\n",
       "                        <th id=\"T_cc09f733_2769_11eb_8fab_58961d662145level0_row6\" class=\"row_heading level0 row6\" >6</th>\n",
       "                        <td id=\"T_cc09f733_2769_11eb_8fab_58961d662145row6_col0\" class=\"data row6 col0\" >PRE9</td>\n",
       "                        <td id=\"T_cc09f733_2769_11eb_8fab_58961d662145row6_col1\" class=\"data row6 col1\" >Dyspnoea before surgery (T,F)</td>\n",
       "            </tr>\n",
       "            <tr>\n",
       "                        <th id=\"T_cc09f733_2769_11eb_8fab_58961d662145level0_row7\" class=\"row_heading level0 row7\" >7</th>\n",
       "                        <td id=\"T_cc09f733_2769_11eb_8fab_58961d662145row7_col0\" class=\"data row7 col0\" >PRE10</td>\n",
       "                        <td id=\"T_cc09f733_2769_11eb_8fab_58961d662145row7_col1\" class=\"data row7 col1\" >Cough before surgery (T,F)</td>\n",
       "            </tr>\n",
       "            <tr>\n",
       "                        <th id=\"T_cc09f733_2769_11eb_8fab_58961d662145level0_row8\" class=\"row_heading level0 row8\" >8</th>\n",
       "                        <td id=\"T_cc09f733_2769_11eb_8fab_58961d662145row8_col0\" class=\"data row8 col0\" >PRE11</td>\n",
       "                        <td id=\"T_cc09f733_2769_11eb_8fab_58961d662145row8_col1\" class=\"data row8 col1\" >Weakness before surgery (T,F)</td>\n",
       "            </tr>\n",
       "            <tr>\n",
       "                        <th id=\"T_cc09f733_2769_11eb_8fab_58961d662145level0_row9\" class=\"row_heading level0 row9\" >9</th>\n",
       "                        <td id=\"T_cc09f733_2769_11eb_8fab_58961d662145row9_col0\" class=\"data row9 col0\" >PRE14</td>\n",
       "                        <td id=\"T_cc09f733_2769_11eb_8fab_58961d662145row9_col1\" class=\"data row9 col1\" >T in clinical TNM - size of the original tumour, from OC11 (smallest) to OC14 (largest) (OC11,OC14,OC12,OC13)</td>\n",
       "            </tr>\n",
       "            <tr>\n",
       "                        <th id=\"T_cc09f733_2769_11eb_8fab_58961d662145level0_row10\" class=\"row_heading level0 row10\" >10</th>\n",
       "                        <td id=\"T_cc09f733_2769_11eb_8fab_58961d662145row10_col0\" class=\"data row10 col0\" >PRE17</td>\n",
       "                        <td id=\"T_cc09f733_2769_11eb_8fab_58961d662145row10_col1\" class=\"data row10 col1\" >Type 2 DM - diabetes mellitus (T,F)</td>\n",
       "            </tr>\n",
       "            <tr>\n",
       "                        <th id=\"T_cc09f733_2769_11eb_8fab_58961d662145level0_row11\" class=\"row_heading level0 row11\" >11</th>\n",
       "                        <td id=\"T_cc09f733_2769_11eb_8fab_58961d662145row11_col0\" class=\"data row11 col0\" >PRE17</td>\n",
       "                        <td id=\"T_cc09f733_2769_11eb_8fab_58961d662145row11_col1\" class=\"data row11 col1\" >MI up to 6 months (T,F)</td>\n",
       "            </tr>\n",
       "            <tr>\n",
       "                        <th id=\"T_cc09f733_2769_11eb_8fab_58961d662145level0_row12\" class=\"row_heading level0 row12\" >12</th>\n",
       "                        <td id=\"T_cc09f733_2769_11eb_8fab_58961d662145row12_col0\" class=\"data row12 col0\" >PRE19</td>\n",
       "                        <td id=\"T_cc09f733_2769_11eb_8fab_58961d662145row12_col1\" class=\"data row12 col1\" >PAD - Peripheral Arterial Diseases (T,F)</td>\n",
       "            </tr>\n",
       "            <tr>\n",
       "                        <th id=\"T_cc09f733_2769_11eb_8fab_58961d662145level0_row13\" class=\"row_heading level0 row13\" >13</th>\n",
       "                        <td id=\"T_cc09f733_2769_11eb_8fab_58961d662145row13_col0\" class=\"data row13 col0\" >PRE30</td>\n",
       "                        <td id=\"T_cc09f733_2769_11eb_8fab_58961d662145row13_col1\" class=\"data row13 col1\" >Smoking (T,F)</td>\n",
       "            </tr>\n",
       "            <tr>\n",
       "                        <th id=\"T_cc09f733_2769_11eb_8fab_58961d662145level0_row14\" class=\"row_heading level0 row14\" >14</th>\n",
       "                        <td id=\"T_cc09f733_2769_11eb_8fab_58961d662145row14_col0\" class=\"data row14 col0\" >PRE32</td>\n",
       "                        <td id=\"T_cc09f733_2769_11eb_8fab_58961d662145row14_col1\" class=\"data row14 col1\" >Asthma (T,F)</td>\n",
       "            </tr>\n",
       "            <tr>\n",
       "                        <th id=\"T_cc09f733_2769_11eb_8fab_58961d662145level0_row15\" class=\"row_heading level0 row15\" >15</th>\n",
       "                        <td id=\"T_cc09f733_2769_11eb_8fab_58961d662145row15_col0\" class=\"data row15 col0\" >AGE</td>\n",
       "                        <td id=\"T_cc09f733_2769_11eb_8fab_58961d662145row15_col1\" class=\"data row15 col1\" >Age at the time of surgery (numeric)</td>\n",
       "            </tr>\n",
       "            <tr>\n",
       "                        <th id=\"T_cc09f733_2769_11eb_8fab_58961d662145level0_row16\" class=\"row_heading level0 row16\" >16</th>\n",
       "                        <td id=\"T_cc09f733_2769_11eb_8fab_58961d662145row16_col0\" class=\"data row16 col0\" >Risk1Y</td>\n",
       "                        <td id=\"T_cc09f733_2769_11eb_8fab_58961d662145row16_col1\" class=\"data row16 col1\" >1 year survival period - (T)rue value if died (T,F)</td>\n",
       "            </tr>\n",
       "    </tbody></table>"
      ],
      "text/plain": [
       "<pandas.io.formats.style.Styler at 0x20b5085adc0>"
      ]
     },
     "execution_count": 9,
     "metadata": {},
     "output_type": "execute_result"
    }
   ],
   "source": [
    "description = pd.read_excel('Thoracic surgery-description.xlsx').dropna()\n",
    "description.style.set_properties(subset=['Description'])"
   ]
  },
  {
   "cell_type": "markdown",
   "metadata": {},
   "source": [
    "### Renaming the attributes of the dataset"
   ]
  },
  {
   "cell_type": "code",
   "execution_count": 10,
   "metadata": {},
   "outputs": [],
   "source": [
    "col = ['ID','Diagnosis','Forced_Capacity','Forced_Expiration','Zubrod_scale','Pain','Haemoptysis','Dyspnoea',\n",
    "       'Cough','Weakness','Size_of_tumor','Diabetes','MI_6months','PAD','Smoker','Asthmatic','Age','Risk_1year']\n",
    "surgery.columns = col"
   ]
  },
  {
   "cell_type": "code",
   "execution_count": 11,
   "metadata": {},
   "outputs": [
    {
     "data": {
      "text/html": [
       "<div>\n",
       "<style scoped>\n",
       "    .dataframe tbody tr th:only-of-type {\n",
       "        vertical-align: middle;\n",
       "    }\n",
       "\n",
       "    .dataframe tbody tr th {\n",
       "        vertical-align: top;\n",
       "    }\n",
       "\n",
       "    .dataframe thead th {\n",
       "        text-align: right;\n",
       "    }\n",
       "</style>\n",
       "<table border=\"1\" class=\"dataframe\">\n",
       "  <thead>\n",
       "    <tr style=\"text-align: right;\">\n",
       "      <th></th>\n",
       "      <th>ID</th>\n",
       "      <th>Diagnosis</th>\n",
       "      <th>Forced_Capacity</th>\n",
       "      <th>Forced_Expiration</th>\n",
       "      <th>Zubrod_scale</th>\n",
       "      <th>Pain</th>\n",
       "      <th>Haemoptysis</th>\n",
       "      <th>Dyspnoea</th>\n",
       "      <th>Cough</th>\n",
       "      <th>Weakness</th>\n",
       "      <th>Size_of_tumor</th>\n",
       "      <th>Diabetes</th>\n",
       "      <th>MI_6months</th>\n",
       "      <th>PAD</th>\n",
       "      <th>Smoker</th>\n",
       "      <th>Asthmatic</th>\n",
       "      <th>Age</th>\n",
       "      <th>Risk_1year</th>\n",
       "    </tr>\n",
       "  </thead>\n",
       "  <tbody>\n",
       "    <tr>\n",
       "      <th>0</th>\n",
       "      <td>1</td>\n",
       "      <td>DGN2</td>\n",
       "      <td>2.88</td>\n",
       "      <td>2.16</td>\n",
       "      <td>PRZ1</td>\n",
       "      <td>F</td>\n",
       "      <td>F</td>\n",
       "      <td>F</td>\n",
       "      <td>T</td>\n",
       "      <td>T</td>\n",
       "      <td>OC14</td>\n",
       "      <td>F</td>\n",
       "      <td>F</td>\n",
       "      <td>F</td>\n",
       "      <td>T</td>\n",
       "      <td>F</td>\n",
       "      <td>60</td>\n",
       "      <td>F</td>\n",
       "    </tr>\n",
       "    <tr>\n",
       "      <th>1</th>\n",
       "      <td>2</td>\n",
       "      <td>DGN3</td>\n",
       "      <td>3.40</td>\n",
       "      <td>1.88</td>\n",
       "      <td>PRZ0</td>\n",
       "      <td>F</td>\n",
       "      <td>F</td>\n",
       "      <td>F</td>\n",
       "      <td>F</td>\n",
       "      <td>F</td>\n",
       "      <td>OC12</td>\n",
       "      <td>F</td>\n",
       "      <td>F</td>\n",
       "      <td>F</td>\n",
       "      <td>T</td>\n",
       "      <td>F</td>\n",
       "      <td>51</td>\n",
       "      <td>F</td>\n",
       "    </tr>\n",
       "    <tr>\n",
       "      <th>2</th>\n",
       "      <td>3</td>\n",
       "      <td>DGN3</td>\n",
       "      <td>2.76</td>\n",
       "      <td>2.08</td>\n",
       "      <td>PRZ1</td>\n",
       "      <td>F</td>\n",
       "      <td>F</td>\n",
       "      <td>F</td>\n",
       "      <td>T</td>\n",
       "      <td>F</td>\n",
       "      <td>OC11</td>\n",
       "      <td>F</td>\n",
       "      <td>F</td>\n",
       "      <td>F</td>\n",
       "      <td>T</td>\n",
       "      <td>F</td>\n",
       "      <td>59</td>\n",
       "      <td>F</td>\n",
       "    </tr>\n",
       "    <tr>\n",
       "      <th>3</th>\n",
       "      <td>4</td>\n",
       "      <td>DGN3</td>\n",
       "      <td>3.68</td>\n",
       "      <td>3.04</td>\n",
       "      <td>PRZ0</td>\n",
       "      <td>F</td>\n",
       "      <td>F</td>\n",
       "      <td>F</td>\n",
       "      <td>F</td>\n",
       "      <td>F</td>\n",
       "      <td>OC11</td>\n",
       "      <td>F</td>\n",
       "      <td>F</td>\n",
       "      <td>F</td>\n",
       "      <td>F</td>\n",
       "      <td>F</td>\n",
       "      <td>54</td>\n",
       "      <td>F</td>\n",
       "    </tr>\n",
       "    <tr>\n",
       "      <th>4</th>\n",
       "      <td>5</td>\n",
       "      <td>DGN3</td>\n",
       "      <td>2.44</td>\n",
       "      <td>0.96</td>\n",
       "      <td>PRZ2</td>\n",
       "      <td>F</td>\n",
       "      <td>T</td>\n",
       "      <td>F</td>\n",
       "      <td>T</td>\n",
       "      <td>T</td>\n",
       "      <td>OC11</td>\n",
       "      <td>F</td>\n",
       "      <td>F</td>\n",
       "      <td>F</td>\n",
       "      <td>T</td>\n",
       "      <td>F</td>\n",
       "      <td>73</td>\n",
       "      <td>T</td>\n",
       "    </tr>\n",
       "  </tbody>\n",
       "</table>\n",
       "</div>"
      ],
      "text/plain": [
       "   ID Diagnosis  Forced_Capacity  Forced_Expiration Zubrod_scale Pain  \\\n",
       "0   1      DGN2             2.88               2.16         PRZ1    F   \n",
       "1   2      DGN3             3.40               1.88         PRZ0    F   \n",
       "2   3      DGN3             2.76               2.08         PRZ1    F   \n",
       "3   4      DGN3             3.68               3.04         PRZ0    F   \n",
       "4   5      DGN3             2.44               0.96         PRZ2    F   \n",
       "\n",
       "  Haemoptysis Dyspnoea Cough Weakness Size_of_tumor Diabetes MI_6months PAD  \\\n",
       "0           F        F     T        T          OC14        F          F   F   \n",
       "1           F        F     F        F          OC12        F          F   F   \n",
       "2           F        F     T        F          OC11        F          F   F   \n",
       "3           F        F     F        F          OC11        F          F   F   \n",
       "4           T        F     T        T          OC11        F          F   F   \n",
       "\n",
       "  Smoker Asthmatic  Age Risk_1year  \n",
       "0      T         F   60          F  \n",
       "1      T         F   51          F  \n",
       "2      T         F   59          F  \n",
       "3      F         F   54          F  \n",
       "4      T         F   73          T  "
      ]
     },
     "execution_count": 11,
     "metadata": {},
     "output_type": "execute_result"
    }
   ],
   "source": [
    "surgery.head()"
   ]
  },
  {
   "cell_type": "markdown",
   "metadata": {},
   "source": [
    "### Missing values"
   ]
  },
  {
   "cell_type": "markdown",
   "metadata": {},
   "source": [
    "#### Checking the number of null values and data type of the variables present in the data set"
   ]
  },
  {
   "cell_type": "code",
   "execution_count": 12,
   "metadata": {},
   "outputs": [
    {
     "data": {
      "text/plain": [
       "ID                   0\n",
       "Diagnosis            0\n",
       "Forced_Capacity      0\n",
       "Forced_Expiration    0\n",
       "Zubrod_scale         0\n",
       "Pain                 0\n",
       "Haemoptysis          0\n",
       "Dyspnoea             0\n",
       "Cough                0\n",
       "Weakness             0\n",
       "Size_of_tumor        0\n",
       "Diabetes             0\n",
       "MI_6months           0\n",
       "PAD                  0\n",
       "Smoker               0\n",
       "Asthmatic            0\n",
       "Age                  0\n",
       "Risk_1year           0\n",
       "dtype: int64"
      ]
     },
     "execution_count": 12,
     "metadata": {},
     "output_type": "execute_result"
    }
   ],
   "source": [
    "surgery.isna().sum()"
   ]
  },
  {
   "cell_type": "markdown",
   "metadata": {},
   "source": [
    "#### Calculating the number of missing vallues in each feature of the dataset"
   ]
  },
  {
   "cell_type": "code",
   "execution_count": 13,
   "metadata": {},
   "outputs": [
    {
     "name": "stdout",
     "output_type": "stream",
     "text": [
      "Thoracic Surgery dataset has 18 columns.\n",
      "There are 0 columns that have missing values.\n"
     ]
    }
   ],
   "source": [
    "missing = surgery.isnull().sum()\n",
    "missing_perc = (missing/len(surgery))*100\n",
    "miss_val_table = pd.concat([missing, missing_perc], axis=1)\n",
    "miss_val_table_rename_col = miss_val_table.rename(columns = {0 : 'Missing Values', 1 : '% of MissingValues'})\n",
    "miss_val_table_rename_col = miss_val_table_rename_col[miss_val_table_rename_col.iloc[:,1] != 0].sort_values('% of MissingValues', ascending=False).round(1)\n",
    "print(\"Thoracic Surgery dataset has \" + str(surgery.shape[1]) + \" columns.\\nThere are \"+ str(miss_val_table_rename_col.shape[0]) + \" columns that have missing values.\")"
   ]
  },
  {
   "cell_type": "markdown",
   "metadata": {},
   "source": [
    "#### Changing the values of the categorical variables, to improve the interpretation"
   ]
  },
  {
   "cell_type": "code",
   "execution_count": 14,
   "metadata": {},
   "outputs": [],
   "source": [
    "surgery['Diagnosis'][surgery['Diagnosis'] == 'DGN1'] = 'Diagnosis_1'\n",
    "surgery['Diagnosis'][surgery['Diagnosis'] == 'DGN2'] = 'Diagnosis_2'\n",
    "surgery['Diagnosis'][surgery['Diagnosis'] == 'DGN3'] = 'Diagnosis_3'\n",
    "surgery['Diagnosis'][surgery['Diagnosis'] == 'DGN4'] = 'Diagnosis_4'\n",
    "surgery['Diagnosis'][surgery['Diagnosis'] == 'DGN5'] = 'Diagnosis_5'\n",
    "surgery['Diagnosis'][surgery['Diagnosis'] == 'DGN6'] = 'Diagnosis_6'\n",
    "surgery['Diagnosis'][surgery['Diagnosis'] == 'DGN8'] = 'Diagnosis_8'\n",
    "\n",
    "surgery['Zubrod_scale'][surgery['Zubrod_scale'] == 'PRZ0'] = 'Zubrod_scale_0'\n",
    "surgery['Zubrod_scale'][surgery['Zubrod_scale'] == 'PRZ1'] = 'Zubrod_scale_1'\n",
    "surgery['Zubrod_scale'][surgery['Zubrod_scale'] == 'PRZ2'] = 'Zubrod_scale_2'\n",
    "\n",
    "surgery['Pain'][surgery['Pain'] == 'F'] = 'False'\n",
    "surgery['Pain'][surgery['Pain'] == 'T'] = 'True'\n",
    "\n",
    "surgery['Haemoptysis'][surgery['Haemoptysis'] == 'F'] = 'False'\n",
    "surgery['Haemoptysis'][surgery['Haemoptysis'] == 'T'] = 'True'\n",
    "\n",
    "surgery['Dyspnoea'][surgery['Dyspnoea'] == 'F'] = 'False'\n",
    "surgery['Dyspnoea'][surgery['Dyspnoea'] == 'T'] = 'True'\n",
    "\n",
    "surgery['Cough'][surgery['Cough'] == 'F'] = 'False'\n",
    "surgery['Cough'][surgery['Cough'] == 'T'] = 'True'\n",
    "\n",
    "surgery['Weakness'][surgery['Weakness'] == 'F'] = 'False'\n",
    "surgery['Weakness'][surgery['Weakness'] == 'T'] = 'True'\n",
    "\n",
    "surgery['Diabetes'][surgery['Diabetes'] == 'F'] = 'False'\n",
    "surgery['Diabetes'][surgery['Diabetes'] == 'T'] = 'True'\n",
    "\n",
    "surgery['MI_6months'][surgery['MI_6months'] == 'F'] = 'False'\n",
    "surgery['MI_6months'][surgery['MI_6months'] == 'T'] = 'True'\n",
    "\n",
    "\n",
    "surgery['PAD'][surgery['PAD'] == 'F'] = 'False'\n",
    "surgery['PAD'][surgery['PAD'] == 'T'] = 'True'\n",
    "\n",
    "\n",
    "surgery['Smoker'][surgery['Smoker'] == 'F'] = 'False'\n",
    "surgery['Smoker'][surgery['Smoker'] == 'T'] = 'True'\n",
    "\n",
    "surgery['Asthmatic'][surgery['Asthmatic'] == 'F'] = 'False'\n",
    "surgery['Asthmatic'][surgery['Asthmatic'] == 'T'] = 'True'\n",
    "\n",
    "surgery['Risk_1year'][surgery['Risk_1year'] == 'F'] = 'False'\n",
    "surgery['Risk_1year'][surgery['Risk_1year'] == 'T'] = 'True'"
   ]
  },
  {
   "cell_type": "code",
   "execution_count": 15,
   "metadata": {},
   "outputs": [
    {
     "data": {
      "text/html": [
       "<div>\n",
       "<style scoped>\n",
       "    .dataframe tbody tr th:only-of-type {\n",
       "        vertical-align: middle;\n",
       "    }\n",
       "\n",
       "    .dataframe tbody tr th {\n",
       "        vertical-align: top;\n",
       "    }\n",
       "\n",
       "    .dataframe thead th {\n",
       "        text-align: right;\n",
       "    }\n",
       "</style>\n",
       "<table border=\"1\" class=\"dataframe\">\n",
       "  <thead>\n",
       "    <tr style=\"text-align: right;\">\n",
       "      <th></th>\n",
       "      <th>ID</th>\n",
       "      <th>Diagnosis</th>\n",
       "      <th>Forced_Capacity</th>\n",
       "      <th>Forced_Expiration</th>\n",
       "      <th>Zubrod_scale</th>\n",
       "      <th>Pain</th>\n",
       "      <th>Haemoptysis</th>\n",
       "      <th>Dyspnoea</th>\n",
       "      <th>Cough</th>\n",
       "      <th>Weakness</th>\n",
       "      <th>Size_of_tumor</th>\n",
       "      <th>Diabetes</th>\n",
       "      <th>MI_6months</th>\n",
       "      <th>PAD</th>\n",
       "      <th>Smoker</th>\n",
       "      <th>Asthmatic</th>\n",
       "      <th>Age</th>\n",
       "      <th>Risk_1year</th>\n",
       "    </tr>\n",
       "  </thead>\n",
       "  <tbody>\n",
       "    <tr>\n",
       "      <th>0</th>\n",
       "      <td>1</td>\n",
       "      <td>Diagnosis_2</td>\n",
       "      <td>2.88</td>\n",
       "      <td>2.16</td>\n",
       "      <td>Zubrod_scale_1</td>\n",
       "      <td>False</td>\n",
       "      <td>False</td>\n",
       "      <td>False</td>\n",
       "      <td>True</td>\n",
       "      <td>True</td>\n",
       "      <td>OC14</td>\n",
       "      <td>False</td>\n",
       "      <td>False</td>\n",
       "      <td>False</td>\n",
       "      <td>True</td>\n",
       "      <td>False</td>\n",
       "      <td>60</td>\n",
       "      <td>False</td>\n",
       "    </tr>\n",
       "    <tr>\n",
       "      <th>1</th>\n",
       "      <td>2</td>\n",
       "      <td>Diagnosis_3</td>\n",
       "      <td>3.40</td>\n",
       "      <td>1.88</td>\n",
       "      <td>Zubrod_scale_0</td>\n",
       "      <td>False</td>\n",
       "      <td>False</td>\n",
       "      <td>False</td>\n",
       "      <td>False</td>\n",
       "      <td>False</td>\n",
       "      <td>OC12</td>\n",
       "      <td>False</td>\n",
       "      <td>False</td>\n",
       "      <td>False</td>\n",
       "      <td>True</td>\n",
       "      <td>False</td>\n",
       "      <td>51</td>\n",
       "      <td>False</td>\n",
       "    </tr>\n",
       "    <tr>\n",
       "      <th>2</th>\n",
       "      <td>3</td>\n",
       "      <td>Diagnosis_3</td>\n",
       "      <td>2.76</td>\n",
       "      <td>2.08</td>\n",
       "      <td>Zubrod_scale_1</td>\n",
       "      <td>False</td>\n",
       "      <td>False</td>\n",
       "      <td>False</td>\n",
       "      <td>True</td>\n",
       "      <td>False</td>\n",
       "      <td>OC11</td>\n",
       "      <td>False</td>\n",
       "      <td>False</td>\n",
       "      <td>False</td>\n",
       "      <td>True</td>\n",
       "      <td>False</td>\n",
       "      <td>59</td>\n",
       "      <td>False</td>\n",
       "    </tr>\n",
       "    <tr>\n",
       "      <th>3</th>\n",
       "      <td>4</td>\n",
       "      <td>Diagnosis_3</td>\n",
       "      <td>3.68</td>\n",
       "      <td>3.04</td>\n",
       "      <td>Zubrod_scale_0</td>\n",
       "      <td>False</td>\n",
       "      <td>False</td>\n",
       "      <td>False</td>\n",
       "      <td>False</td>\n",
       "      <td>False</td>\n",
       "      <td>OC11</td>\n",
       "      <td>False</td>\n",
       "      <td>False</td>\n",
       "      <td>False</td>\n",
       "      <td>False</td>\n",
       "      <td>False</td>\n",
       "      <td>54</td>\n",
       "      <td>False</td>\n",
       "    </tr>\n",
       "    <tr>\n",
       "      <th>4</th>\n",
       "      <td>5</td>\n",
       "      <td>Diagnosis_3</td>\n",
       "      <td>2.44</td>\n",
       "      <td>0.96</td>\n",
       "      <td>Zubrod_scale_2</td>\n",
       "      <td>False</td>\n",
       "      <td>True</td>\n",
       "      <td>False</td>\n",
       "      <td>True</td>\n",
       "      <td>True</td>\n",
       "      <td>OC11</td>\n",
       "      <td>False</td>\n",
       "      <td>False</td>\n",
       "      <td>False</td>\n",
       "      <td>True</td>\n",
       "      <td>False</td>\n",
       "      <td>73</td>\n",
       "      <td>True</td>\n",
       "    </tr>\n",
       "  </tbody>\n",
       "</table>\n",
       "</div>"
      ],
      "text/plain": [
       "   ID    Diagnosis  Forced_Capacity  Forced_Expiration    Zubrod_scale   Pain  \\\n",
       "0   1  Diagnosis_2             2.88               2.16  Zubrod_scale_1  False   \n",
       "1   2  Diagnosis_3             3.40               1.88  Zubrod_scale_0  False   \n",
       "2   3  Diagnosis_3             2.76               2.08  Zubrod_scale_1  False   \n",
       "3   4  Diagnosis_3             3.68               3.04  Zubrod_scale_0  False   \n",
       "4   5  Diagnosis_3             2.44               0.96  Zubrod_scale_2  False   \n",
       "\n",
       "  Haemoptysis Dyspnoea  Cough Weakness Size_of_tumor Diabetes MI_6months  \\\n",
       "0       False    False   True     True          OC14    False      False   \n",
       "1       False    False  False    False          OC12    False      False   \n",
       "2       False    False   True    False          OC11    False      False   \n",
       "3       False    False  False    False          OC11    False      False   \n",
       "4        True    False   True     True          OC11    False      False   \n",
       "\n",
       "     PAD Smoker Asthmatic  Age Risk_1year  \n",
       "0  False   True     False   60      False  \n",
       "1  False   True     False   51      False  \n",
       "2  False   True     False   59      False  \n",
       "3  False  False     False   54      False  \n",
       "4  False   True     False   73       True  "
      ]
     },
     "execution_count": 15,
     "metadata": {},
     "output_type": "execute_result"
    }
   ],
   "source": [
    "surgery.head()"
   ]
  },
  {
   "cell_type": "markdown",
   "metadata": {},
   "source": [
    "### Displaying  data present in the csv file"
   ]
  },
  {
   "cell_type": "code",
   "execution_count": 16,
   "metadata": {},
   "outputs": [
    {
     "name": "stdout",
     "output_type": "stream",
     "text": [
      "<class 'pandas.core.frame.DataFrame'>\n",
      "RangeIndex: 470 entries, 0 to 469\n",
      "Data columns (total 18 columns):\n",
      " #   Column             Non-Null Count  Dtype  \n",
      "---  ------             --------------  -----  \n",
      " 0   ID                 470 non-null    int64  \n",
      " 1   Diagnosis          470 non-null    object \n",
      " 2   Forced_Capacity    470 non-null    float64\n",
      " 3   Forced_Expiration  470 non-null    float64\n",
      " 4   Zubrod_scale       470 non-null    object \n",
      " 5   Pain               470 non-null    object \n",
      " 6   Haemoptysis        470 non-null    object \n",
      " 7   Dyspnoea           470 non-null    object \n",
      " 8   Cough              470 non-null    object \n",
      " 9   Weakness           470 non-null    object \n",
      " 10  Size_of_tumor      470 non-null    object \n",
      " 11  Diabetes           470 non-null    object \n",
      " 12  MI_6months         470 non-null    object \n",
      " 13  PAD                470 non-null    object \n",
      " 14  Smoker             470 non-null    object \n",
      " 15  Asthmatic          470 non-null    object \n",
      " 16  Age                470 non-null    int64  \n",
      " 17  Risk_1year         470 non-null    object \n",
      "dtypes: float64(2), int64(2), object(14)\n",
      "memory usage: 66.2+ KB\n"
     ]
    }
   ],
   "source": [
    "surgery.info()"
   ]
  },
  {
   "cell_type": "markdown",
   "metadata": {},
   "source": [
    "### Checking the data types"
   ]
  },
  {
   "cell_type": "code",
   "execution_count": 17,
   "metadata": {},
   "outputs": [
    {
     "data": {
      "text/plain": [
       "ID                     int64\n",
       "Diagnosis             object\n",
       "Forced_Capacity      float64\n",
       "Forced_Expiration    float64\n",
       "Zubrod_scale          object\n",
       "Pain                  object\n",
       "Haemoptysis           object\n",
       "Dyspnoea              object\n",
       "Cough                 object\n",
       "Weakness              object\n",
       "Size_of_tumor         object\n",
       "Diabetes              object\n",
       "MI_6months            object\n",
       "PAD                   object\n",
       "Smoker                object\n",
       "Asthmatic             object\n",
       "Age                    int64\n",
       "Risk_1year            object\n",
       "dtype: object"
      ]
     },
     "execution_count": 17,
     "metadata": {},
     "output_type": "execute_result"
    }
   ],
   "source": [
    "surgery.dtypes"
   ]
  },
  {
   "cell_type": "markdown",
   "metadata": {},
   "source": [
    "### Finding number of unique values in each feature"
   ]
  },
  {
   "cell_type": "code",
   "execution_count": 18,
   "metadata": {},
   "outputs": [
    {
     "data": {
      "text/plain": [
       "ID     470\n",
       "Age     45\n",
       "dtype: int64"
      ]
     },
     "execution_count": 18,
     "metadata": {},
     "output_type": "execute_result"
    }
   ],
   "source": [
    "surgery.select_dtypes('int64').apply(pd.Series.nunique, axis = 0)"
   ]
  },
  {
   "cell_type": "code",
   "execution_count": 19,
   "metadata": {},
   "outputs": [
    {
     "data": {
      "text/plain": [
       "Forced_Capacity      134\n",
       "Forced_Expiration    136\n",
       "dtype: int64"
      ]
     },
     "execution_count": 19,
     "metadata": {},
     "output_type": "execute_result"
    }
   ],
   "source": [
    "surgery.select_dtypes('float64').apply(pd.Series.nunique, axis = 0)"
   ]
  },
  {
   "cell_type": "code",
   "execution_count": 20,
   "metadata": {},
   "outputs": [
    {
     "data": {
      "text/plain": [
       "Diagnosis        7\n",
       "Zubrod_scale     3\n",
       "Pain             2\n",
       "Haemoptysis      2\n",
       "Dyspnoea         2\n",
       "Cough            2\n",
       "Weakness         2\n",
       "Size_of_tumor    4\n",
       "Diabetes         2\n",
       "MI_6months       2\n",
       "PAD              2\n",
       "Smoker           2\n",
       "Asthmatic        2\n",
       "Risk_1year       2\n",
       "dtype: int64"
      ]
     },
     "execution_count": 20,
     "metadata": {},
     "output_type": "execute_result"
    }
   ],
   "source": [
    "surgery.select_dtypes('object').apply(pd.Series.nunique, axis = 0)"
   ]
  },
  {
   "cell_type": "markdown",
   "metadata": {},
   "source": [
    "## Visualizations\n",
    "#### Categorical Features\n",
    "\n",
    "Categorical features are present in dataset:\n",
    "\n",
    "1. Diagnosis\n",
    "2. Zubrod_scale\n",
    "3. Pain\n",
    "4. Haemoptysis\n",
    "5. Dyspnoea\n",
    "6. Cough\n",
    "7. Weakness\n",
    "8. Size_of_tumor\n",
    "9. Diabetes\n",
    "10. MI_6months\n",
    "11. PAD\n",
    "12. Smoker\n",
    "13. Asthmatic\n",
    "\n",
    "#### Continuos Features\n",
    "1. Forced_Capacity\n",
    "2. Forced_Expiration\n",
    "3. Age \n",
    "\n",
    "\n",
    "`Target Feature: Risk_1year`"
   ]
  },
  {
   "cell_type": "markdown",
   "metadata": {},
   "source": [
    "#### Visualization of Categorical Features"
   ]
  },
  {
   "cell_type": "code",
   "execution_count": 21,
   "metadata": {},
   "outputs": [
    {
     "data": {
      "text/html": [
       "<div>\n",
       "<style scoped>\n",
       "    .dataframe tbody tr th:only-of-type {\n",
       "        vertical-align: middle;\n",
       "    }\n",
       "\n",
       "    .dataframe tbody tr th {\n",
       "        vertical-align: top;\n",
       "    }\n",
       "\n",
       "    .dataframe thead th {\n",
       "        text-align: right;\n",
       "    }\n",
       "</style>\n",
       "<table border=\"1\" class=\"dataframe\">\n",
       "  <thead>\n",
       "    <tr style=\"text-align: right;\">\n",
       "      <th></th>\n",
       "      <th>ID</th>\n",
       "      <th>Diagnosis</th>\n",
       "      <th>Forced_Capacity</th>\n",
       "      <th>Forced_Expiration</th>\n",
       "      <th>Zubrod_scale</th>\n",
       "      <th>Pain</th>\n",
       "      <th>Haemoptysis</th>\n",
       "      <th>Dyspnoea</th>\n",
       "      <th>Cough</th>\n",
       "      <th>Weakness</th>\n",
       "      <th>Size_of_tumor</th>\n",
       "      <th>Diabetes</th>\n",
       "      <th>MI_6months</th>\n",
       "      <th>PAD</th>\n",
       "      <th>Smoker</th>\n",
       "      <th>Asthmatic</th>\n",
       "      <th>Age</th>\n",
       "      <th>Risk_1year</th>\n",
       "    </tr>\n",
       "  </thead>\n",
       "  <tbody>\n",
       "    <tr>\n",
       "      <th>0</th>\n",
       "      <td>1</td>\n",
       "      <td>Diagnosis_2</td>\n",
       "      <td>2.88</td>\n",
       "      <td>2.16</td>\n",
       "      <td>Zubrod_scale_1</td>\n",
       "      <td>False</td>\n",
       "      <td>False</td>\n",
       "      <td>False</td>\n",
       "      <td>True</td>\n",
       "      <td>True</td>\n",
       "      <td>OC14</td>\n",
       "      <td>False</td>\n",
       "      <td>False</td>\n",
       "      <td>False</td>\n",
       "      <td>True</td>\n",
       "      <td>False</td>\n",
       "      <td>60</td>\n",
       "      <td>False</td>\n",
       "    </tr>\n",
       "    <tr>\n",
       "      <th>1</th>\n",
       "      <td>2</td>\n",
       "      <td>Diagnosis_3</td>\n",
       "      <td>3.40</td>\n",
       "      <td>1.88</td>\n",
       "      <td>Zubrod_scale_0</td>\n",
       "      <td>False</td>\n",
       "      <td>False</td>\n",
       "      <td>False</td>\n",
       "      <td>False</td>\n",
       "      <td>False</td>\n",
       "      <td>OC12</td>\n",
       "      <td>False</td>\n",
       "      <td>False</td>\n",
       "      <td>False</td>\n",
       "      <td>True</td>\n",
       "      <td>False</td>\n",
       "      <td>51</td>\n",
       "      <td>False</td>\n",
       "    </tr>\n",
       "    <tr>\n",
       "      <th>2</th>\n",
       "      <td>3</td>\n",
       "      <td>Diagnosis_3</td>\n",
       "      <td>2.76</td>\n",
       "      <td>2.08</td>\n",
       "      <td>Zubrod_scale_1</td>\n",
       "      <td>False</td>\n",
       "      <td>False</td>\n",
       "      <td>False</td>\n",
       "      <td>True</td>\n",
       "      <td>False</td>\n",
       "      <td>OC11</td>\n",
       "      <td>False</td>\n",
       "      <td>False</td>\n",
       "      <td>False</td>\n",
       "      <td>True</td>\n",
       "      <td>False</td>\n",
       "      <td>59</td>\n",
       "      <td>False</td>\n",
       "    </tr>\n",
       "    <tr>\n",
       "      <th>3</th>\n",
       "      <td>4</td>\n",
       "      <td>Diagnosis_3</td>\n",
       "      <td>3.68</td>\n",
       "      <td>3.04</td>\n",
       "      <td>Zubrod_scale_0</td>\n",
       "      <td>False</td>\n",
       "      <td>False</td>\n",
       "      <td>False</td>\n",
       "      <td>False</td>\n",
       "      <td>False</td>\n",
       "      <td>OC11</td>\n",
       "      <td>False</td>\n",
       "      <td>False</td>\n",
       "      <td>False</td>\n",
       "      <td>False</td>\n",
       "      <td>False</td>\n",
       "      <td>54</td>\n",
       "      <td>False</td>\n",
       "    </tr>\n",
       "    <tr>\n",
       "      <th>4</th>\n",
       "      <td>5</td>\n",
       "      <td>Diagnosis_3</td>\n",
       "      <td>2.44</td>\n",
       "      <td>0.96</td>\n",
       "      <td>Zubrod_scale_2</td>\n",
       "      <td>False</td>\n",
       "      <td>True</td>\n",
       "      <td>False</td>\n",
       "      <td>True</td>\n",
       "      <td>True</td>\n",
       "      <td>OC11</td>\n",
       "      <td>False</td>\n",
       "      <td>False</td>\n",
       "      <td>False</td>\n",
       "      <td>True</td>\n",
       "      <td>False</td>\n",
       "      <td>73</td>\n",
       "      <td>True</td>\n",
       "    </tr>\n",
       "  </tbody>\n",
       "</table>\n",
       "</div>"
      ],
      "text/plain": [
       "   ID    Diagnosis  Forced_Capacity  Forced_Expiration    Zubrod_scale   Pain  \\\n",
       "0   1  Diagnosis_2             2.88               2.16  Zubrod_scale_1  False   \n",
       "1   2  Diagnosis_3             3.40               1.88  Zubrod_scale_0  False   \n",
       "2   3  Diagnosis_3             2.76               2.08  Zubrod_scale_1  False   \n",
       "3   4  Diagnosis_3             3.68               3.04  Zubrod_scale_0  False   \n",
       "4   5  Diagnosis_3             2.44               0.96  Zubrod_scale_2  False   \n",
       "\n",
       "  Haemoptysis Dyspnoea  Cough Weakness Size_of_tumor Diabetes MI_6months  \\\n",
       "0       False    False   True     True          OC14    False      False   \n",
       "1       False    False  False    False          OC12    False      False   \n",
       "2       False    False   True    False          OC11    False      False   \n",
       "3       False    False  False    False          OC11    False      False   \n",
       "4        True    False   True     True          OC11    False      False   \n",
       "\n",
       "     PAD Smoker Asthmatic  Age Risk_1year  \n",
       "0  False   True     False   60      False  \n",
       "1  False   True     False   51      False  \n",
       "2  False   True     False   59      False  \n",
       "3  False  False     False   54      False  \n",
       "4  False   True     False   73       True  "
      ]
     },
     "execution_count": 21,
     "metadata": {},
     "output_type": "execute_result"
    }
   ],
   "source": [
    "#List to store column names of categorical features\n",
    "cat_features=['Diagnosis','Zubrod_scale','Pain','Haemoptysis','Dyspnoea','Cough','Weakness','Size_of_tumor','Diabetes','MI_6months','PAD','Smoker','Asthmatic']\n",
    "surgery.head()"
   ]
  },
  {
   "cell_type": "code",
   "execution_count": 22,
   "metadata": {},
   "outputs": [
    {
     "data": {
      "text/plain": [
       "<matplotlib.axes._subplots.AxesSubplot at 0x20b50d86ee0>"
      ]
     },
     "execution_count": 22,
     "metadata": {},
     "output_type": "execute_result"
    },
    {
     "data": {
      "image/png": "[encoded data removed]",
      "text/plain": [
       "<Figure size 720x360 with 1 Axes>"
      ]
     },
     "metadata": {
      "needs_background": "light"
     },
     "output_type": "display_data"
    }
   ],
   "source": [
    "plt.figure(figsize=(10,5))\n",
    "sns.countplot(x='Diagnosis',data=surgery)"
   ]
  },
  {
   "cell_type": "code",
   "execution_count": 23,
   "metadata": {},
   "outputs": [
    {
     "data": {
      "image/png": "[encoded data removed]",
      "text/plain": [
       "<Figure size 432x288 with 1 Axes>"
      ]
     },
     "metadata": {},
     "output_type": "display_data"
    },
    {
     "data": {
      "image/png": "[encoded data removed]",
      "text/plain": [
       "<Figure size 432x288 with 1 Axes>"
      ]
     },
     "metadata": {},
     "output_type": "display_data"
    },
    {
     "data": {
      "image/png": "[encoded data removed]",
      "text/plain": [
       "<Figure size 432x288 with 1 Axes>"
      ]
     },
     "metadata": {},
     "output_type": "display_data"
    },
    {
     "data": {
      "image/png": "[encoded data removed]",
      "text/plain": [
       "<Figure size 432x288 with 1 Axes>"
      ]
     },
     "metadata": {},
     "output_type": "display_data"
    },
    {
     "data": {
      "image/png": "[encoded data removed]",
      "text/plain": [
       "<Figure size 432x288 with 1 Axes>"
      ]
     },
     "metadata": {},
     "output_type": "display_data"
    },
    {
     "data": {
      "image/png": "[encoded data removed]",
      "text/plain": [
       "<Figure size 432x288 with 1 Axes>"
      ]
     },
     "metadata": {},
     "output_type": "display_data"
    },
    {
     "data": {
      "image/png": "[encoded data removed]",
      "text/plain": [
       "<Figure size 432x288 with 1 Axes>"
      ]
     },
     "metadata": {},
     "output_type": "display_data"
    },
    {
     "data": {
      "image/png": "[encoded data removed]",
      "text/plain": [
       "<Figure size 432x288 with 1 Axes>"
      ]
     },
     "metadata": {},
     "output_type": "display_data"
    },
    {
     "data": {
      "image/png": "[encoded data removed]",
      "text/plain": [
       "<Figure size 432x288 with 1 Axes>"
      ]
     },
     "metadata": {},
     "output_type": "display_data"
    },
    {
     "data": {
      "image/png": "[encoded data removed]",
      "text/plain": [
       "<Figure size 432x288 with 1 Axes>"
      ]
     },
     "metadata": {},
     "output_type": "display_data"
    },
    {
     "data": {
      "image/png": "[encoded data removed]",
      "text/plain": [
       "<Figure size 432x288 with 1 Axes>"
      ]
     },
     "metadata": {},
     "output_type": "display_data"
    },
    {
     "data": {
      "image/png": "[encoded data removed]",
      "text/plain": [
       "<Figure size 432x288 with 1 Axes>"
      ]
     },
     "metadata": {},
     "output_type": "display_data"
    }
   ],
   "source": [
    "sns.set(style=\"whitegrid\")\n",
    "for i,cat in enumerate(cat_features[1:]):\n",
    "    plt.figure(i)\n",
    "    sns.countplot(x=cat,data=surgery,palette=\"Set2\")"
   ]
  },
  {
   "cell_type": "markdown",
   "metadata": {},
   "source": [
    "### Distribution of Continuous Feature. "
   ]
  },
  {
   "cell_type": "code",
   "execution_count": 24,
   "metadata": {},
   "outputs": [],
   "source": [
    "cont_features=['Forced_Capacity','Forced_Expiration','Age']"
   ]
  },
  {
   "cell_type": "code",
   "execution_count": 25,
   "metadata": {},
   "outputs": [
    {
     "data": {
      "image/png": "[encoded data removed]",
      "text/plain": [
       "<Figure size 432x288 with 1 Axes>"
      ]
     },
     "metadata": {},
     "output_type": "display_data"
    },
    {
     "data": {
      "image/png": "[encoded data removed]",
      "text/plain": [
       "<Figure size 432x288 with 1 Axes>"
      ]
     },
     "metadata": {},
     "output_type": "display_data"
    },
    {
     "data": {
      "image/png": "[encoded data removed]",
      "text/plain": [
       "<Figure size 432x288 with 1 Axes>"
      ]
     },
     "metadata": {},
     "output_type": "display_data"
    }
   ],
   "source": [
    "sns.set(style=\"whitegrid\")\n",
    "for i,cont in enumerate(cont_features):\n",
    "    plt.figure(i)\n",
    "    sns.distplot(surgery[cont],hist=True,bins=30,color=\"green\")"
   ]
  },
  {
   "cell_type": "markdown",
   "metadata": {},
   "source": [
    "### Relationship between Continuous features"
   ]
  },
  {
   "cell_type": "code",
   "execution_count": 26,
   "metadata": {},
   "outputs": [
    {
     "data": {
      "text/plain": [
       "<seaborn.axisgrid.PairGrid at 0x20b5150c550>"
      ]
     },
     "execution_count": 26,
     "metadata": {},
     "output_type": "execute_result"
    },
    {
     "data": {
      "image/png": "[encoded data removed]",
      "text/plain": [
       "<Figure size 788.8x720 with 20 Axes>"
      ]
     },
     "metadata": {},
     "output_type": "display_data"
    }
   ],
   "source": [
    "sns.pairplot(surgery,hue='Risk_1year' )"
   ]
  },
  {
   "cell_type": "markdown",
   "metadata": {},
   "source": [
    "#### Box Plot to detect outliers in continuous features"
   ]
  },
  {
   "cell_type": "code",
   "execution_count": 27,
   "metadata": {},
   "outputs": [
    {
     "data": {
      "image/png": "[encoded data removed]",
      "text/plain": [
       "<Figure size 432x288 with 1 Axes>"
      ]
     },
     "metadata": {},
     "output_type": "display_data"
    },
    {
     "data": {
      "image/png": "[encoded data removed]",
      "text/plain": [
       "<Figure size 432x288 with 1 Axes>"
      ]
     },
     "metadata": {},
     "output_type": "display_data"
    },
    {
     "data": {
      "image/png": "[encoded data removed]",
      "text/plain": [
       "<Figure size 432x288 with 1 Axes>"
      ]
     },
     "metadata": {},
     "output_type": "display_data"
    }
   ],
   "source": [
    "for i,cont in enumerate(cont_features):\n",
    "    plt.figure(i)\n",
    "    ax=sns.boxplot(x=cont,data=surgery)\n",
    "    ax.plot"
   ]
  },
  {
   "cell_type": "markdown",
   "metadata": {},
   "source": [
    "**Above Box plots depict there are outliers in all 3 continuous features. We can use different techniques to handle outliers.**\n",
    "\n",
    "- Clamp Transformation can be used and check can be placed if it does not impact overall distribution.\n",
    "- We can use standard Normalization of data betwen -1 and 1\n",
    "- Binning\n",
    "\n",
    "We can select the best approach after checking the impact on distribution after applying above 3 techniques."
   ]
  },
  {
   "cell_type": "markdown",
   "metadata": {},
   "source": [
    "## Distrbution of target feature"
   ]
  },
  {
   "cell_type": "code",
   "execution_count": 28,
   "metadata": {},
   "outputs": [
    {
     "data": {
      "text/plain": [
       "<matplotlib.axes._subplots.AxesSubplot at 0x20b517b1a30>"
      ]
     },
     "execution_count": 28,
     "metadata": {},
     "output_type": "execute_result"
    },
    {
     "data": {
      "image/png": "[encoded data removed]",
      "text/plain": [
       "<Figure size 432x288 with 1 Axes>"
      ]
     },
     "metadata": {},
     "output_type": "display_data"
    }
   ],
   "source": [
    "sns.countplot(x='Risk_1year',data=surgery,palette=\"Set3\")"
   ]
  },
  {
   "cell_type": "markdown",
   "metadata": {},
   "source": [
    "### There is huge gap in distribution of two levels in target feature. We can use \"Over Sampling\" Techniques to generate synthetic data for \"True\" Minority class."
   ]
  },
  {
   "cell_type": "markdown",
   "metadata": {},
   "source": [
    "#### Visualizing continuous and categorical features with target variable"
   ]
  },
  {
   "cell_type": "code",
   "execution_count": 29,
   "metadata": {},
   "outputs": [
    {
     "data": {
      "image/png": "[encoded data removed]",
      "text/plain": [
       "<Figure size 432x8064 with 3 Axes>"
      ]
     },
     "metadata": {},
     "output_type": "display_data"
    }
   ],
   "source": [
    "gs = gridspec.GridSpec(28, 1)\n",
    "plt.figure(figsize=(6,28*4))\n",
    "for i, col in enumerate(cont_features):\n",
    "    ax = plt.subplot(gs[i])\n",
    "    sns.distplot(surgery[col][surgery.Risk_1year == 'True'], bins=30, color='r')\n",
    "    sns.distplot(surgery[col][surgery.Risk_1year == 'False'], bins=30, color='g')\n",
    "    ax.set_xlabel('')\n",
    "    ax.set_title('feature: ' + str(col))\n",
    "plt.show()"
   ]
  },
  {
   "cell_type": "code",
   "execution_count": 30,
   "metadata": {},
   "outputs": [],
   "source": [
    "#Convert categorical features to numeric\n",
    "surgery[['Pain','Haemoptysis','Dyspnoea','Cough','Weakness','Diabetes','MI_6months','PAD','Smoker','Asthmatic','Risk_1year']] = \\\n",
    "(surgery[['Pain','Haemoptysis','Dyspnoea','Cough','Weakness','Diabetes','MI_6months','PAD','Smoker','Asthmatic','Risk_1year']] == 'True').astype(int)\n"
   ]
  },
  {
   "cell_type": "code",
   "execution_count": 31,
   "metadata": {},
   "outputs": [],
   "source": [
    "surgery['Diagnosis']= surgery['Diagnosis'].str[-1:].astype(int)\n",
    "surgery['Zubrod_scale']= surgery['Zubrod_scale'].str[-1:].astype(int)\n",
    "surgery['Size_of_tumor']= surgery['Size_of_tumor'].str[-1:].astype(int)"
   ]
  },
  {
   "cell_type": "code",
   "execution_count": 32,
   "metadata": {},
   "outputs": [
    {
     "data": {
      "text/html": [
       "<div>\n",
       "<style scoped>\n",
       "    .dataframe tbody tr th:only-of-type {\n",
       "        vertical-align: middle;\n",
       "    }\n",
       "\n",
       "    .dataframe tbody tr th {\n",
       "        vertical-align: top;\n",
       "    }\n",
       "\n",
       "    .dataframe thead th {\n",
       "        text-align: right;\n",
       "    }\n",
       "</style>\n",
       "<table border=\"1\" class=\"dataframe\">\n",
       "  <thead>\n",
       "    <tr style=\"text-align: right;\">\n",
       "      <th></th>\n",
       "      <th>ID</th>\n",
       "      <th>Diagnosis</th>\n",
       "      <th>Forced_Capacity</th>\n",
       "      <th>Forced_Expiration</th>\n",
       "      <th>Zubrod_scale</th>\n",
       "      <th>Pain</th>\n",
       "      <th>Haemoptysis</th>\n",
       "      <th>Dyspnoea</th>\n",
       "      <th>Cough</th>\n",
       "      <th>Weakness</th>\n",
       "      <th>Size_of_tumor</th>\n",
       "      <th>Diabetes</th>\n",
       "      <th>MI_6months</th>\n",
       "      <th>PAD</th>\n",
       "      <th>Smoker</th>\n",
       "      <th>Asthmatic</th>\n",
       "      <th>Age</th>\n",
       "      <th>Risk_1year</th>\n",
       "    </tr>\n",
       "  </thead>\n",
       "  <tbody>\n",
       "    <tr>\n",
       "      <th>0</th>\n",
       "      <td>1</td>\n",
       "      <td>2</td>\n",
       "      <td>2.88</td>\n",
       "      <td>2.16</td>\n",
       "      <td>1</td>\n",
       "      <td>0</td>\n",
       "      <td>0</td>\n",
       "      <td>0</td>\n",
       "      <td>1</td>\n",
       "      <td>1</td>\n",
       "      <td>4</td>\n",
       "      <td>0</td>\n",
       "      <td>0</td>\n",
       "      <td>0</td>\n",
       "      <td>1</td>\n",
       "      <td>0</td>\n",
       "      <td>60</td>\n",
       "      <td>0</td>\n",
       "    </tr>\n",
       "    <tr>\n",
       "      <th>1</th>\n",
       "      <td>2</td>\n",
       "      <td>3</td>\n",
       "      <td>3.40</td>\n",
       "      <td>1.88</td>\n",
       "      <td>0</td>\n",
       "      <td>0</td>\n",
       "      <td>0</td>\n",
       "      <td>0</td>\n",
       "      <td>0</td>\n",
       "      <td>0</td>\n",
       "      <td>2</td>\n",
       "      <td>0</td>\n",
       "      <td>0</td>\n",
       "      <td>0</td>\n",
       "      <td>1</td>\n",
       "      <td>0</td>\n",
       "      <td>51</td>\n",
       "      <td>0</td>\n",
       "    </tr>\n",
       "    <tr>\n",
       "      <th>2</th>\n",
       "      <td>3</td>\n",
       "      <td>3</td>\n",
       "      <td>2.76</td>\n",
       "      <td>2.08</td>\n",
       "      <td>1</td>\n",
       "      <td>0</td>\n",
       "      <td>0</td>\n",
       "      <td>0</td>\n",
       "      <td>1</td>\n",
       "      <td>0</td>\n",
       "      <td>1</td>\n",
       "      <td>0</td>\n",
       "      <td>0</td>\n",
       "      <td>0</td>\n",
       "      <td>1</td>\n",
       "      <td>0</td>\n",
       "      <td>59</td>\n",
       "      <td>0</td>\n",
       "    </tr>\n",
       "    <tr>\n",
       "      <th>3</th>\n",
       "      <td>4</td>\n",
       "      <td>3</td>\n",
       "      <td>3.68</td>\n",
       "      <td>3.04</td>\n",
       "      <td>0</td>\n",
       "      <td>0</td>\n",
       "      <td>0</td>\n",
       "      <td>0</td>\n",
       "      <td>0</td>\n",
       "      <td>0</td>\n",
       "      <td>1</td>\n",
       "      <td>0</td>\n",
       "      <td>0</td>\n",
       "      <td>0</td>\n",
       "      <td>0</td>\n",
       "      <td>0</td>\n",
       "      <td>54</td>\n",
       "      <td>0</td>\n",
       "    </tr>\n",
       "    <tr>\n",
       "      <th>4</th>\n",
       "      <td>5</td>\n",
       "      <td>3</td>\n",
       "      <td>2.44</td>\n",
       "      <td>0.96</td>\n",
       "      <td>2</td>\n",
       "      <td>0</td>\n",
       "      <td>1</td>\n",
       "      <td>0</td>\n",
       "      <td>1</td>\n",
       "      <td>1</td>\n",
       "      <td>1</td>\n",
       "      <td>0</td>\n",
       "      <td>0</td>\n",
       "      <td>0</td>\n",
       "      <td>1</td>\n",
       "      <td>0</td>\n",
       "      <td>73</td>\n",
       "      <td>1</td>\n",
       "    </tr>\n",
       "  </tbody>\n",
       "</table>\n",
       "</div>"
      ],
      "text/plain": [
       "   ID  Diagnosis  Forced_Capacity  Forced_Expiration  Zubrod_scale  Pain  \\\n",
       "0   1          2             2.88               2.16             1     0   \n",
       "1   2          3             3.40               1.88             0     0   \n",
       "2   3          3             2.76               2.08             1     0   \n",
       "3   4          3             3.68               3.04             0     0   \n",
       "4   5          3             2.44               0.96             2     0   \n",
       "\n",
       "   Haemoptysis  Dyspnoea  Cough  Weakness  Size_of_tumor  Diabetes  \\\n",
       "0            0         0      1         1              4         0   \n",
       "1            0         0      0         0              2         0   \n",
       "2            0         0      1         0              1         0   \n",
       "3            0         0      0         0              1         0   \n",
       "4            1         0      1         1              1         0   \n",
       "\n",
       "   MI_6months  PAD  Smoker  Asthmatic  Age  Risk_1year  \n",
       "0           0    0       1          0   60           0  \n",
       "1           0    0       1          0   51           0  \n",
       "2           0    0       1          0   59           0  \n",
       "3           0    0       0          0   54           0  \n",
       "4           0    0       1          0   73           1  "
      ]
     },
     "execution_count": 32,
     "metadata": {},
     "output_type": "execute_result"
    }
   ],
   "source": [
    "surgery.head()"
   ]
  },
  {
   "cell_type": "code",
   "execution_count": 33,
   "metadata": {},
   "outputs": [
    {
     "data": {
      "image/png": "[encoded data removed]",
      "text/plain": [
       "<Figure size 432x8064 with 13 Axes>"
      ]
     },
     "metadata": {},
     "output_type": "display_data"
    }
   ],
   "source": [
    "gs = gridspec.GridSpec(28, 1)\n",
    "plt.figure(figsize=(6,28*4))\n",
    "for i, col in enumerate(cat_features):\n",
    "    ax = plt.subplot(gs[i])\n",
    "    sns.distplot(surgery[col][surgery.Risk_1year == 1], bins=30, color='r')\n",
    "    sns.distplot(surgery[col][surgery.Risk_1year == 0], bins=30, color='g')\n",
    "    ax.set_xlabel('')\n",
    "    ax.set_title('feature: ' + str(col))\n",
    "plt.show()"
   ]
  },
  {
   "cell_type": "code",
   "execution_count": 34,
   "metadata": {},
   "outputs": [
    {
     "data": {
      "text/plain": [
       "<matplotlib.axes._subplots.AxesSubplot at 0x20b5332b190>"
      ]
     },
     "execution_count": 34,
     "metadata": {},
     "output_type": "execute_result"
    },
    {
     "data": {
      "image/png": "[encoded data removed]",
      "text/plain": [
       "<Figure size 792x360 with 2 Axes>"
      ]
     },
     "metadata": {},
     "output_type": "display_data"
    }
   ],
   "source": [
    "# Compute the correlation matrix\n",
    "corr = surgery.corr()\n",
    "\n",
    "f, ax = plt.subplots(figsize=(11, 5))\n",
    "\n",
    "# Generate a custom diverging colormap\n",
    "cmap = sns.diverging_palette(220, 10, as_cmap=True)\n",
    "\n",
    "sns.heatmap(corr, cmap=cmap, vmax=.3, center=0,\n",
    "            square=True, linewidths=.5, cbar_kws={\"shrink\": .5})"
   ]
  },
  {
   "cell_type": "markdown",
   "metadata": {},
   "source": [
    "### Random Forest"
   ]
  },
  {
   "cell_type": "code",
   "execution_count": 35,
   "metadata": {},
   "outputs": [
    {
     "data": {
      "text/html": [
       "<div>\n",
       "<style scoped>\n",
       "    .dataframe tbody tr th:only-of-type {\n",
       "        vertical-align: middle;\n",
       "    }\n",
       "\n",
       "    .dataframe tbody tr th {\n",
       "        vertical-align: top;\n",
       "    }\n",
       "\n",
       "    .dataframe thead th {\n",
       "        text-align: right;\n",
       "    }\n",
       "</style>\n",
       "<table border=\"1\" class=\"dataframe\">\n",
       "  <thead>\n",
       "    <tr style=\"text-align: right;\">\n",
       "      <th></th>\n",
       "      <th>ID</th>\n",
       "      <th>Diagnosis</th>\n",
       "      <th>Forced_Capacity</th>\n",
       "      <th>Forced_Expiration</th>\n",
       "      <th>Zubrod_scale</th>\n",
       "      <th>Pain</th>\n",
       "      <th>Haemoptysis</th>\n",
       "      <th>Dyspnoea</th>\n",
       "      <th>Cough</th>\n",
       "      <th>Weakness</th>\n",
       "      <th>Size_of_tumor</th>\n",
       "      <th>Diabetes</th>\n",
       "      <th>MI_6months</th>\n",
       "      <th>PAD</th>\n",
       "      <th>Smoker</th>\n",
       "      <th>Asthmatic</th>\n",
       "      <th>Age</th>\n",
       "      <th>Risk_1year</th>\n",
       "    </tr>\n",
       "  </thead>\n",
       "  <tbody>\n",
       "    <tr>\n",
       "      <th>0</th>\n",
       "      <td>1</td>\n",
       "      <td>2</td>\n",
       "      <td>2.88</td>\n",
       "      <td>2.16</td>\n",
       "      <td>1</td>\n",
       "      <td>0</td>\n",
       "      <td>0</td>\n",
       "      <td>0</td>\n",
       "      <td>1</td>\n",
       "      <td>1</td>\n",
       "      <td>4</td>\n",
       "      <td>0</td>\n",
       "      <td>0</td>\n",
       "      <td>0</td>\n",
       "      <td>1</td>\n",
       "      <td>0</td>\n",
       "      <td>60</td>\n",
       "      <td>0</td>\n",
       "    </tr>\n",
       "    <tr>\n",
       "      <th>1</th>\n",
       "      <td>2</td>\n",
       "      <td>3</td>\n",
       "      <td>3.40</td>\n",
       "      <td>1.88</td>\n",
       "      <td>0</td>\n",
       "      <td>0</td>\n",
       "      <td>0</td>\n",
       "      <td>0</td>\n",
       "      <td>0</td>\n",
       "      <td>0</td>\n",
       "      <td>2</td>\n",
       "      <td>0</td>\n",
       "      <td>0</td>\n",
       "      <td>0</td>\n",
       "      <td>1</td>\n",
       "      <td>0</td>\n",
       "      <td>51</td>\n",
       "      <td>0</td>\n",
       "    </tr>\n",
       "    <tr>\n",
       "      <th>2</th>\n",
       "      <td>3</td>\n",
       "      <td>3</td>\n",
       "      <td>2.76</td>\n",
       "      <td>2.08</td>\n",
       "      <td>1</td>\n",
       "      <td>0</td>\n",
       "      <td>0</td>\n",
       "      <td>0</td>\n",
       "      <td>1</td>\n",
       "      <td>0</td>\n",
       "      <td>1</td>\n",
       "      <td>0</td>\n",
       "      <td>0</td>\n",
       "      <td>0</td>\n",
       "      <td>1</td>\n",
       "      <td>0</td>\n",
       "      <td>59</td>\n",
       "      <td>0</td>\n",
       "    </tr>\n",
       "    <tr>\n",
       "      <th>3</th>\n",
       "      <td>4</td>\n",
       "      <td>3</td>\n",
       "      <td>3.68</td>\n",
       "      <td>3.04</td>\n",
       "      <td>0</td>\n",
       "      <td>0</td>\n",
       "      <td>0</td>\n",
       "      <td>0</td>\n",
       "      <td>0</td>\n",
       "      <td>0</td>\n",
       "      <td>1</td>\n",
       "      <td>0</td>\n",
       "      <td>0</td>\n",
       "      <td>0</td>\n",
       "      <td>0</td>\n",
       "      <td>0</td>\n",
       "      <td>54</td>\n",
       "      <td>0</td>\n",
       "    </tr>\n",
       "    <tr>\n",
       "      <th>4</th>\n",
       "      <td>5</td>\n",
       "      <td>3</td>\n",
       "      <td>2.44</td>\n",
       "      <td>0.96</td>\n",
       "      <td>2</td>\n",
       "      <td>0</td>\n",
       "      <td>1</td>\n",
       "      <td>0</td>\n",
       "      <td>1</td>\n",
       "      <td>1</td>\n",
       "      <td>1</td>\n",
       "      <td>0</td>\n",
       "      <td>0</td>\n",
       "      <td>0</td>\n",
       "      <td>1</td>\n",
       "      <td>0</td>\n",
       "      <td>73</td>\n",
       "      <td>1</td>\n",
       "    </tr>\n",
       "  </tbody>\n",
       "</table>\n",
       "</div>"
      ],
      "text/plain": [
       "   ID  Diagnosis  Forced_Capacity  Forced_Expiration  Zubrod_scale  Pain  \\\n",
       "0   1          2             2.88               2.16             1     0   \n",
       "1   2          3             3.40               1.88             0     0   \n",
       "2   3          3             2.76               2.08             1     0   \n",
       "3   4          3             3.68               3.04             0     0   \n",
       "4   5          3             2.44               0.96             2     0   \n",
       "\n",
       "   Haemoptysis  Dyspnoea  Cough  Weakness  Size_of_tumor  Diabetes  \\\n",
       "0            0         0      1         1              4         0   \n",
       "1            0         0      0         0              2         0   \n",
       "2            0         0      1         0              1         0   \n",
       "3            0         0      0         0              1         0   \n",
       "4            1         0      1         1              1         0   \n",
       "\n",
       "   MI_6months  PAD  Smoker  Asthmatic  Age  Risk_1year  \n",
       "0           0    0       1          0   60           0  \n",
       "1           0    0       1          0   51           0  \n",
       "2           0    0       1          0   59           0  \n",
       "3           0    0       0          0   54           0  \n",
       "4           0    0       1          0   73           1  "
      ]
     },
     "execution_count": 35,
     "metadata": {},
     "output_type": "execute_result"
    }
   ],
   "source": [
    "surgery.head()"
   ]
  },
  {
   "cell_type": "code",
   "execution_count": 36,
   "metadata": {},
   "outputs": [
    {
     "data": {
      "text/html": [
       "<div>\n",
       "<style scoped>\n",
       "    .dataframe tbody tr th:only-of-type {\n",
       "        vertical-align: middle;\n",
       "    }\n",
       "\n",
       "    .dataframe tbody tr th {\n",
       "        vertical-align: top;\n",
       "    }\n",
       "\n",
       "    .dataframe thead th {\n",
       "        text-align: right;\n",
       "    }\n",
       "</style>\n",
       "<table border=\"1\" class=\"dataframe\">\n",
       "  <thead>\n",
       "    <tr style=\"text-align: right;\">\n",
       "      <th></th>\n",
       "      <th>Risk_1year</th>\n",
       "    </tr>\n",
       "  </thead>\n",
       "  <tbody>\n",
       "    <tr>\n",
       "      <th>0</th>\n",
       "      <td>0</td>\n",
       "    </tr>\n",
       "    <tr>\n",
       "      <th>1</th>\n",
       "      <td>0</td>\n",
       "    </tr>\n",
       "    <tr>\n",
       "      <th>2</th>\n",
       "      <td>0</td>\n",
       "    </tr>\n",
       "    <tr>\n",
       "      <th>3</th>\n",
       "      <td>0</td>\n",
       "    </tr>\n",
       "    <tr>\n",
       "      <th>4</th>\n",
       "      <td>1</td>\n",
       "    </tr>\n",
       "    <tr>\n",
       "      <th>...</th>\n",
       "      <td>...</td>\n",
       "    </tr>\n",
       "    <tr>\n",
       "      <th>465</th>\n",
       "      <td>0</td>\n",
       "    </tr>\n",
       "    <tr>\n",
       "      <th>466</th>\n",
       "      <td>0</td>\n",
       "    </tr>\n",
       "    <tr>\n",
       "      <th>467</th>\n",
       "      <td>0</td>\n",
       "    </tr>\n",
       "    <tr>\n",
       "      <th>468</th>\n",
       "      <td>0</td>\n",
       "    </tr>\n",
       "    <tr>\n",
       "      <th>469</th>\n",
       "      <td>0</td>\n",
       "    </tr>\n",
       "  </tbody>\n",
       "</table>\n",
       "<p>470 rows × 1 columns</p>\n",
       "</div>"
      ],
      "text/plain": [
       "     Risk_1year\n",
       "0             0\n",
       "1             0\n",
       "2             0\n",
       "3             0\n",
       "4             1\n",
       "..          ...\n",
       "465           0\n",
       "466           0\n",
       "467           0\n",
       "468           0\n",
       "469           0\n",
       "\n",
       "[470 rows x 1 columns]"
      ]
     },
     "execution_count": 36,
     "metadata": {},
     "output_type": "execute_result"
    }
   ],
   "source": [
    "surgery[['Risk_1year']]"
   ]
  },
  {
   "cell_type": "code",
   "execution_count": 93,
   "metadata": {},
   "outputs": [],
   "source": [
    "from sklearn.model_selection import train_test_split\n",
    "\n",
    "X=surgery.iloc[:,1:-1]\n",
    "Y=surgery[['Risk_1year']]\n",
    "\n",
    "# Split dataset into training set and test set\n",
    "X_train, X_test, y_train, y_test = train_test_split(X, Y, test_size=0.2,random_state=42) # 80% training and 20% test\n"
   ]
  },
  {
   "cell_type": "code",
   "execution_count": 106,
   "metadata": {},
   "outputs": [],
   "source": [
    "from sklearn.ensemble import RandomForestClassifier\n",
    "\n",
    "model_rnf = RandomForestClassifier(n_estimators=10,random_state=42 )\n",
    "model_rnf.fit(X_train, y_train)\n",
    "\n",
    "y_pred_rnf = model_rnf.predict(X_test)"
   ]
  },
  {
   "cell_type": "code",
   "execution_count": 107,
   "metadata": {},
   "outputs": [],
   "source": [
    "from sklearn.metrics import confusion_matrix, classification_report"
   ]
  },
  {
   "cell_type": "code",
   "execution_count": 108,
   "metadata": {},
   "outputs": [
    {
     "data": {
      "text/plain": [
       "0.7978723404255319"
      ]
     },
     "execution_count": 108,
     "metadata": {},
     "output_type": "execute_result"
    }
   ],
   "source": [
    "model_rnf.score(X_test,y_test)"
   ]
  },
  {
   "cell_type": "code",
   "execution_count": 109,
   "metadata": {},
   "outputs": [
    {
     "name": "stdout",
     "output_type": "stream",
     "text": [
      "              precision    recall  f1-score   support\n",
      "\n",
      "           0       0.80      0.99      0.89        75\n",
      "           1       0.50      0.05      0.10        19\n",
      "\n",
      "    accuracy                           0.80        94\n",
      "   macro avg       0.65      0.52      0.49        94\n",
      "weighted avg       0.74      0.80      0.73        94\n",
      "\n"
     ]
    }
   ],
   "source": [
    "print(classification_report(y_test, y_pred_rnf))"
   ]
  },
  {
   "cell_type": "markdown",
   "metadata": {},
   "source": [
    "### Using feature importance for Random forest"
   ]
  },
  {
   "cell_type": "code",
   "execution_count": 110,
   "metadata": {},
   "outputs": [
    {
     "data": {
      "text/plain": [
       "1     0.226615\n",
       "2     0.218834\n",
       "15    0.168681\n",
       "0     0.091373\n",
       "9     0.084579\n",
       "5     0.031406\n",
       "6     0.029480\n",
       "3     0.025860\n",
       "7     0.025372\n",
       "8     0.025060\n",
       "10    0.022487\n",
       "13    0.019672\n",
       "4     0.019148\n",
       "12    0.011429\n",
       "11    0.000005\n",
       "14    0.000000\n",
       "dtype: float64"
      ]
     },
     "execution_count": 110,
     "metadata": {},
     "output_type": "execute_result"
    }
   ],
   "source": [
    "import pandas as pd\n",
    "feature_imp = pd.Series(model_rnf.feature_importances_).sort_values(ascending=False)\n",
    "feature_imp"
   ]
  },
  {
   "cell_type": "code",
   "execution_count": 111,
   "metadata": {},
   "outputs": [
    {
     "data": {
      "text/html": [
       "<div>\n",
       "<style scoped>\n",
       "    .dataframe tbody tr th:only-of-type {\n",
       "        vertical-align: middle;\n",
       "    }\n",
       "\n",
       "    .dataframe tbody tr th {\n",
       "        vertical-align: top;\n",
       "    }\n",
       "\n",
       "    .dataframe thead th {\n",
       "        text-align: right;\n",
       "    }\n",
       "</style>\n",
       "<table border=\"1\" class=\"dataframe\">\n",
       "  <thead>\n",
       "    <tr style=\"text-align: right;\">\n",
       "      <th></th>\n",
       "      <th>Diagnosis</th>\n",
       "      <th>Forced_Capacity</th>\n",
       "      <th>Forced_Expiration</th>\n",
       "      <th>Zubrod_scale</th>\n",
       "      <th>Pain</th>\n",
       "      <th>Haemoptysis</th>\n",
       "      <th>Dyspnoea</th>\n",
       "      <th>Cough</th>\n",
       "      <th>Weakness</th>\n",
       "      <th>Size_of_tumor</th>\n",
       "      <th>Diabetes</th>\n",
       "      <th>MI_6months</th>\n",
       "      <th>PAD</th>\n",
       "      <th>Smoker</th>\n",
       "      <th>Asthmatic</th>\n",
       "      <th>Age</th>\n",
       "    </tr>\n",
       "  </thead>\n",
       "  <tbody>\n",
       "    <tr>\n",
       "      <th>0</th>\n",
       "      <td>0.142857</td>\n",
       "      <td>0.296296</td>\n",
       "      <td>0.014061</td>\n",
       "      <td>0.5</td>\n",
       "      <td>0</td>\n",
       "      <td>0</td>\n",
       "      <td>0</td>\n",
       "      <td>1</td>\n",
       "      <td>1</td>\n",
       "      <td>1.000000</td>\n",
       "      <td>0</td>\n",
       "      <td>0</td>\n",
       "      <td>0</td>\n",
       "      <td>1</td>\n",
       "      <td>0</td>\n",
       "      <td>0.590909</td>\n",
       "    </tr>\n",
       "    <tr>\n",
       "      <th>1</th>\n",
       "      <td>0.285714</td>\n",
       "      <td>0.403292</td>\n",
       "      <td>0.010780</td>\n",
       "      <td>0.0</td>\n",
       "      <td>0</td>\n",
       "      <td>0</td>\n",
       "      <td>0</td>\n",
       "      <td>0</td>\n",
       "      <td>0</td>\n",
       "      <td>0.333333</td>\n",
       "      <td>0</td>\n",
       "      <td>0</td>\n",
       "      <td>0</td>\n",
       "      <td>1</td>\n",
       "      <td>0</td>\n",
       "      <td>0.454545</td>\n",
       "    </tr>\n",
       "    <tr>\n",
       "      <th>2</th>\n",
       "      <td>0.285714</td>\n",
       "      <td>0.271605</td>\n",
       "      <td>0.013124</td>\n",
       "      <td>0.5</td>\n",
       "      <td>0</td>\n",
       "      <td>0</td>\n",
       "      <td>0</td>\n",
       "      <td>1</td>\n",
       "      <td>0</td>\n",
       "      <td>0.000000</td>\n",
       "      <td>0</td>\n",
       "      <td>0</td>\n",
       "      <td>0</td>\n",
       "      <td>1</td>\n",
       "      <td>0</td>\n",
       "      <td>0.575758</td>\n",
       "    </tr>\n",
       "    <tr>\n",
       "      <th>3</th>\n",
       "      <td>0.285714</td>\n",
       "      <td>0.460905</td>\n",
       "      <td>0.024373</td>\n",
       "      <td>0.0</td>\n",
       "      <td>0</td>\n",
       "      <td>0</td>\n",
       "      <td>0</td>\n",
       "      <td>0</td>\n",
       "      <td>0</td>\n",
       "      <td>0.000000</td>\n",
       "      <td>0</td>\n",
       "      <td>0</td>\n",
       "      <td>0</td>\n",
       "      <td>0</td>\n",
       "      <td>0</td>\n",
       "      <td>0.500000</td>\n",
       "    </tr>\n",
       "    <tr>\n",
       "      <th>4</th>\n",
       "      <td>0.285714</td>\n",
       "      <td>0.205761</td>\n",
       "      <td>0.000000</td>\n",
       "      <td>1.0</td>\n",
       "      <td>0</td>\n",
       "      <td>1</td>\n",
       "      <td>0</td>\n",
       "      <td>1</td>\n",
       "      <td>1</td>\n",
       "      <td>0.000000</td>\n",
       "      <td>0</td>\n",
       "      <td>0</td>\n",
       "      <td>0</td>\n",
       "      <td>1</td>\n",
       "      <td>0</td>\n",
       "      <td>0.787879</td>\n",
       "    </tr>\n",
       "    <tr>\n",
       "      <th>...</th>\n",
       "      <td>...</td>\n",
       "      <td>...</td>\n",
       "      <td>...</td>\n",
       "      <td>...</td>\n",
       "      <td>...</td>\n",
       "      <td>...</td>\n",
       "      <td>...</td>\n",
       "      <td>...</td>\n",
       "      <td>...</td>\n",
       "      <td>...</td>\n",
       "      <td>...</td>\n",
       "      <td>...</td>\n",
       "      <td>...</td>\n",
       "      <td>...</td>\n",
       "      <td>...</td>\n",
       "      <td>...</td>\n",
       "    </tr>\n",
       "    <tr>\n",
       "      <th>465</th>\n",
       "      <td>0.142857</td>\n",
       "      <td>0.502058</td>\n",
       "      <td>0.013593</td>\n",
       "      <td>0.5</td>\n",
       "      <td>0</td>\n",
       "      <td>0</td>\n",
       "      <td>0</td>\n",
       "      <td>1</td>\n",
       "      <td>0</td>\n",
       "      <td>0.666667</td>\n",
       "      <td>0</td>\n",
       "      <td>0</td>\n",
       "      <td>0</td>\n",
       "      <td>1</td>\n",
       "      <td>0</td>\n",
       "      <td>0.636364</td>\n",
       "    </tr>\n",
       "    <tr>\n",
       "      <th>466</th>\n",
       "      <td>0.285714</td>\n",
       "      <td>0.477366</td>\n",
       "      <td>0.025311</td>\n",
       "      <td>0.0</td>\n",
       "      <td>0</td>\n",
       "      <td>0</td>\n",
       "      <td>0</td>\n",
       "      <td>0</td>\n",
       "      <td>0</td>\n",
       "      <td>0.000000</td>\n",
       "      <td>0</td>\n",
       "      <td>0</td>\n",
       "      <td>0</td>\n",
       "      <td>1</td>\n",
       "      <td>0</td>\n",
       "      <td>0.606061</td>\n",
       "    </tr>\n",
       "    <tr>\n",
       "      <th>467</th>\n",
       "      <td>0.285714</td>\n",
       "      <td>0.329218</td>\n",
       "      <td>0.013124</td>\n",
       "      <td>0.5</td>\n",
       "      <td>0</td>\n",
       "      <td>0</td>\n",
       "      <td>0</td>\n",
       "      <td>1</td>\n",
       "      <td>0</td>\n",
       "      <td>0.666667</td>\n",
       "      <td>0</td>\n",
       "      <td>0</td>\n",
       "      <td>0</td>\n",
       "      <td>0</td>\n",
       "      <td>0</td>\n",
       "      <td>0.469697</td>\n",
       "    </tr>\n",
       "    <tr>\n",
       "      <th>468</th>\n",
       "      <td>0.285714</td>\n",
       "      <td>0.106996</td>\n",
       "      <td>0.008437</td>\n",
       "      <td>0.5</td>\n",
       "      <td>0</td>\n",
       "      <td>0</td>\n",
       "      <td>0</td>\n",
       "      <td>1</td>\n",
       "      <td>1</td>\n",
       "      <td>0.333333</td>\n",
       "      <td>0</td>\n",
       "      <td>0</td>\n",
       "      <td>0</td>\n",
       "      <td>1</td>\n",
       "      <td>0</td>\n",
       "      <td>0.878788</td>\n",
       "    </tr>\n",
       "    <tr>\n",
       "      <th>469</th>\n",
       "      <td>0.285714</td>\n",
       "      <td>0.674897</td>\n",
       "      <td>0.030466</td>\n",
       "      <td>0.0</td>\n",
       "      <td>0</td>\n",
       "      <td>0</td>\n",
       "      <td>0</td>\n",
       "      <td>0</td>\n",
       "      <td>0</td>\n",
       "      <td>0.333333</td>\n",
       "      <td>0</td>\n",
       "      <td>0</td>\n",
       "      <td>0</td>\n",
       "      <td>1</td>\n",
       "      <td>0</td>\n",
       "      <td>0.454545</td>\n",
       "    </tr>\n",
       "  </tbody>\n",
       "</table>\n",
       "<p>470 rows × 16 columns</p>\n",
       "</div>"
      ],
      "text/plain": [
       "     Diagnosis  Forced_Capacity  Forced_Expiration  Zubrod_scale  Pain  \\\n",
       "0     0.142857         0.296296           0.014061           0.5     0   \n",
       "1     0.285714         0.403292           0.010780           0.0     0   \n",
       "2     0.285714         0.271605           0.013124           0.5     0   \n",
       "3     0.285714         0.460905           0.024373           0.0     0   \n",
       "4     0.285714         0.205761           0.000000           1.0     0   \n",
       "..         ...              ...                ...           ...   ...   \n",
       "465   0.142857         0.502058           0.013593           0.5     0   \n",
       "466   0.285714         0.477366           0.025311           0.0     0   \n",
       "467   0.285714         0.329218           0.013124           0.5     0   \n",
       "468   0.285714         0.106996           0.008437           0.5     0   \n",
       "469   0.285714         0.674897           0.030466           0.0     0   \n",
       "\n",
       "     Haemoptysis  Dyspnoea  Cough  Weakness  Size_of_tumor  Diabetes  \\\n",
       "0              0         0      1         1       1.000000         0   \n",
       "1              0         0      0         0       0.333333         0   \n",
       "2              0         0      1         0       0.000000         0   \n",
       "3              0         0      0         0       0.000000         0   \n",
       "4              1         0      1         1       0.000000         0   \n",
       "..           ...       ...    ...       ...            ...       ...   \n",
       "465            0         0      1         0       0.666667         0   \n",
       "466            0         0      0         0       0.000000         0   \n",
       "467            0         0      1         0       0.666667         0   \n",
       "468            0         0      1         1       0.333333         0   \n",
       "469            0         0      0         0       0.333333         0   \n",
       "\n",
       "     MI_6months  PAD  Smoker  Asthmatic       Age  \n",
       "0             0    0       1          0  0.590909  \n",
       "1             0    0       1          0  0.454545  \n",
       "2             0    0       1          0  0.575758  \n",
       "3             0    0       0          0  0.500000  \n",
       "4             0    0       1          0  0.787879  \n",
       "..          ...  ...     ...        ...       ...  \n",
       "465           0    0       1          0  0.636364  \n",
       "466           0    0       1          0  0.606061  \n",
       "467           0    0       0          0  0.469697  \n",
       "468           0    0       1          0  0.878788  \n",
       "469           0    0       1          0  0.454545  \n",
       "\n",
       "[470 rows x 16 columns]"
      ]
     },
     "execution_count": 111,
     "metadata": {},
     "output_type": "execute_result"
    }
   ],
   "source": [
    "X"
   ]
  },
  {
   "cell_type": "markdown",
   "metadata": {},
   "source": [
    "### Removing least important features"
   ]
  },
  {
   "cell_type": "code",
   "execution_count": 112,
   "metadata": {},
   "outputs": [],
   "source": [
    "X_new=X[['Diagnosis','Forced_Capacity','Forced_Expiration','Pain','Zubrod_scale','Haemoptysis','Dyspnoea','Cough','Weakness','Size_of_tumor','Diabetes','Age','Smoker']]"
   ]
  },
  {
   "cell_type": "code",
   "execution_count": 118,
   "metadata": {},
   "outputs": [],
   "source": [
    "# Split dataset into training set and test set\n",
    "X_train_ft, X_test_ft, y_train_ft, y_test_ft = train_test_split(X_new, Y, test_size=0.2,random_state=42) # 70% training and 30% test"
   ]
  },
  {
   "cell_type": "code",
   "execution_count": 151,
   "metadata": {},
   "outputs": [],
   "source": [
    "model_rnf_ft = RandomForestClassifier(n_estimators=300,random_state=42)\n",
    "model_rnf_ft.fit(X_train_ft, y_train_ft)\n",
    "\n",
    "y_pred_rnf_ft = model_rnf_ft.predict(X_test_ft)"
   ]
  },
  {
   "cell_type": "code",
   "execution_count": 152,
   "metadata": {},
   "outputs": [
    {
     "data": {
      "text/plain": [
       "array([[75,  0],\n",
       "       [19,  0]], dtype=int64)"
      ]
     },
     "execution_count": 152,
     "metadata": {},
     "output_type": "execute_result"
    }
   ],
   "source": [
    "from sklearn.metrics import confusion_matrix, classification_report\n",
    "cmf_ft=confusion_matrix(y_test_ft,y_pred_rnf_ft)\n",
    "cmf_ft"
   ]
  },
  {
   "cell_type": "code",
   "execution_count": 153,
   "metadata": {},
   "outputs": [
    {
     "data": {
      "text/plain": [
       "0.7978723404255319"
      ]
     },
     "execution_count": 153,
     "metadata": {},
     "output_type": "execute_result"
    }
   ],
   "source": [
    "model_rnf_ft.score(X_test_ft,y_test_ft)"
   ]
  },
  {
   "cell_type": "code",
   "execution_count": 154,
   "metadata": {},
   "outputs": [
    {
     "name": "stdout",
     "output_type": "stream",
     "text": [
      "              precision    recall  f1-score   support\n",
      "\n",
      "           0       0.80      1.00      0.89        75\n",
      "           1       0.00      0.00      0.00        19\n",
      "\n",
      "    accuracy                           0.80        94\n",
      "   macro avg       0.40      0.50      0.44        94\n",
      "weighted avg       0.64      0.80      0.71        94\n",
      "\n"
     ]
    }
   ],
   "source": [
    "print(classification_report(y_test_ft, y_pred_rnf_ft))"
   ]
  },
  {
   "cell_type": "code",
   "execution_count": 38,
   "metadata": {},
   "outputs": [],
   "source": [
    "from sklearn.ensemble import RandomForestClassifier\n",
    "from sklearn.linear_model import LogisticRegression\n",
    "from sklearn.metrics import precision_score, recall_score, f1_score, confusion_matrix, accuracy_score,classification_report\n",
    "from sklearn.model_selection import GridSearchCV, StratifiedKFold, cross_val_score, train_test_split\n",
    "from sklearn.naive_bayes import GaussianNB\n",
    "from sklearn.neighbors import KNeighborsClassifier\n",
    "from sklearn.svm import SVC\n",
    "from sklearn.tree import DecisionTreeClassifier\n",
    "from sklearn import preprocessing"
   ]
  },
  {
   "cell_type": "markdown",
   "metadata": {},
   "source": [
    "#### Data Scaling "
   ]
  },
  {
   "cell_type": "markdown",
   "metadata": {},
   "source": [
    "Some columns like Diagnosis,Forced_Capacity,Forced_Expiration etc. are not scaled with remaining columns. Hence, performed min-max normalization on these features."
   ]
  },
  {
   "cell_type": "code",
   "execution_count": 39,
   "metadata": {},
   "outputs": [],
   "source": [
    "surgery['Diagnosis']= preprocessing.MinMaxScaler().fit_transform(surgery[['Diagnosis']])\n",
    "surgery['Forced_Capacity']= preprocessing.MinMaxScaler().fit_transform(surgery[['Forced_Capacity']])\n",
    "surgery['Forced_Expiration']= preprocessing.MinMaxScaler().fit_transform(surgery[['Forced_Expiration']])\n",
    "surgery['Zubrod_scale']= preprocessing.MinMaxScaler().fit_transform(surgery[['Zubrod_scale']])\n",
    "surgery['Size_of_tumor']= preprocessing.MinMaxScaler().fit_transform(surgery[['Size_of_tumor']])\n",
    "surgery['Age']= preprocessing.MinMaxScaler().fit_transform(surgery[['Age']])"
   ]
  },
  {
   "cell_type": "code",
   "execution_count": 40,
   "metadata": {},
   "outputs": [],
   "source": [
    "X=surgery.iloc[:,1:-1]\n",
    "\n",
    "Y=surgery[['Risk_1year']]"
   ]
  },
  {
   "cell_type": "markdown",
   "metadata": {},
   "source": [
    "### Modeling and Evaluation"
   ]
  },
  {
   "cell_type": "code",
   "execution_count": 41,
   "metadata": {},
   "outputs": [],
   "source": [
    "#parameters to fine tune the models\n",
    "knn_params = {'n_neighbors': list(range(2, 6, 1)),'weights':['uniform','distance'],'algorithm': ['auto', 'ball_tree', 'kd_tree', 'brute']}\n",
    "svc_params = {'C': [0.01, 0.7, 0.9, 1,10,100], 'kernel': ['rbf', 'poly', 'sigmoid', 'linear']}\n",
    "dec_tree_params = {'criterion': ['gini', 'entropy'], 'max_depth': list(range(2, 6, 1)), 'min_samples_leaf': list(range(5, 8, 1))}\n",
    "log_reg_params = {'penalty': ['l1', 'l2'], 'C': [0.001, 0.01, 0.1, 1, 10, 100, 1000,10000]}\n",
    "nb_params= {'var_smoothing' : [0.00001,0.0000001]}\n",
    "rf_params={'criterion': ['gini', \"entropy\"],'max_depth': list(range(2, 6, 1)), 'min_samples_leaf': list(range(5, 8, 1))}\n",
    "\n",
    "\n",
    "# different classifiers we want to try for the problem \n",
    "classifiers = {\n",
    "    \n",
    "    \"KNearest\": (KNeighborsClassifier(), knn_params),\n",
    "    \"Support Vector Classifier\": (SVC(), svc_params),\n",
    "    \"DecisionTreeClassifier\": (DecisionTreeClassifier(), dec_tree_params),\n",
    "    \"Naive Bayes\": (GaussianNB(), nb_params),\n",
    "    \"Random forests\": (RandomForestClassifier(),rf_params),\n",
    "    \"LogisiticRegression\": (LogisticRegression(), log_reg_params)\n",
    "}\n",
    "\n",
    "#Selecting candidate parameters using gridsearch to train the model\n",
    "def get_best_fit(model, params, X, Y):\n",
    "    grid = GridSearchCV(estimator=model, param_grid=params)\n",
    "    grid.fit(X, Y)\n",
    "    return grid.best_estimator_\n",
    "\n",
    "# Algorithm to train all models\n",
    "# We have implemented stratified k-fold cross validation approach and split the dataset into k equal folds\n",
    "# The model is trained using (k-1) of the folds as training data and the remaining one as test data\n",
    "def train_all_models(X, Y, folds=5):\n",
    "    RANDOM_SEED = 0\n",
    "    for clf_name, (clf, params) in classifiers.items():\n",
    "        skf = StratifiedKFold(n_splits=folds, random_state=RANDOM_SEED, shuffle=True)\n",
    "        cv_scores = []\n",
    "        precision_scores = []\n",
    "        recall_scores = []\n",
    "        f1_scores = []\n",
    "        estimators = []\n",
    "        for train_index, test_index in skf.split(X, Y):\n",
    "            X_train, X_test = pd.DataFrame(data=X, index=train_index), pd.DataFrame(data=X, index=test_index)\n",
    "            y_train, y_test = pd.DataFrame(data=Y, index=train_index), pd.DataFrame(data=Y, index=test_index)\n",
    "            model= get_best_fit(clf, params, X_train, y_train)\n",
    "            estimators.append(model) \n",
    "            scores = cross_val_score(model, X_train, y_train.values.ravel(), cv=3, scoring='accuracy')  #compute the score 3 consecutive times\n",
    "            cv_scores.append(scores)     \n",
    "            y_pred = model.predict(X_test)\n",
    "            precision_scores.append(precision_score(y_test, y_pred))\n",
    "            recall_scores.append(recall_score(y_test, y_pred))\n",
    "            f1_scores.append(f1_score(y_test, y_pred))\n",
    "        print('============================= {} ============================='.format(clf_name))\n",
    "        print('Accuracy score:\\n', accuracy_score(y_test, y_pred))\n",
    "        print()\n",
    "        print('Confusion matrix:\\n', confusion_matrix(y_test, y_pred)) \n",
    "        print()\n",
    "        print('Classification report:\\n', classification_report(y_test, y_pred))\n",
    "        print()\n",
    "        print('Mean cross validation score: {}'.format(np.array([cv_scores]).mean()))\n",
    "        print('Mean precision score: {}'.format(np.array([precision_scores]).mean()))\n",
    "        print('Mean Recall score: {}'.format(np.array([recall_scores]).mean()))\n",
    "        print('Mean F1 score: {}'.format(np.array([f1_scores]).mean()))\n",
    "        best_iteration = recall_scores.index(max(recall_scores))\n",
    "        best_estimator = estimators[best_iteration]\n",
    "        print('Best estimator: {}'.format(estimators[best_iteration]))"
   ]
  },
  {
   "cell_type": "code",
   "execution_count": 42,
   "metadata": {},
   "outputs": [
    {
     "name": "stdout",
     "output_type": "stream",
     "text": [
      "============================= KNearest =============================\n",
      "Accuracy score:\n",
      " 0.851063829787234\n",
      "\n",
      "Confusion matrix:\n",
      " [[80  0]\n",
      " [14  0]]\n",
      "\n",
      "Classification report:\n",
      "               precision    recall  f1-score   support\n",
      "\n",
      "           0       0.85      1.00      0.92        80\n",
      "           1       0.00      0.00      0.00        14\n",
      "\n",
      "    accuracy                           0.85        94\n",
      "   macro avg       0.43      0.50      0.46        94\n",
      "weighted avg       0.72      0.85      0.78        94\n",
      "\n",
      "\n",
      "Mean cross validation score: 0.8446814814814816\n",
      "Mean precision score: 0.0\n",
      "Mean Recall score: 0.0\n",
      "Mean F1 score: 0.0\n",
      "Best estimator: KNeighborsClassifier(n_neighbors=4)\n",
      "============================= Support Vector Classifier =============================\n",
      "Accuracy score:\n",
      " 0.851063829787234\n",
      "\n",
      "Confusion matrix:\n",
      " [[80  0]\n",
      " [14  0]]\n",
      "\n",
      "Classification report:\n",
      "               precision    recall  f1-score   support\n",
      "\n",
      "           0       0.85      1.00      0.92        80\n",
      "           1       0.00      0.00      0.00        14\n",
      "\n",
      "    accuracy                           0.85        94\n",
      "   macro avg       0.43      0.50      0.46        94\n",
      "weighted avg       0.72      0.85      0.78        94\n",
      "\n",
      "\n",
      "Mean cross validation score: 0.8484021164021165\n",
      "Mean precision score: 0.0\n",
      "Mean Recall score: 0.0\n",
      "Mean F1 score: 0.0\n",
      "Best estimator: SVC(C=0.7, kernel='poly')\n",
      "============================= DecisionTreeClassifier =============================\n",
      "Accuracy score:\n",
      " 0.7978723404255319\n",
      "\n",
      "Confusion matrix:\n",
      " [[75  5]\n",
      " [14  0]]\n",
      "\n",
      "Classification report:\n",
      "               precision    recall  f1-score   support\n",
      "\n",
      "           0       0.84      0.94      0.89        80\n",
      "           1       0.00      0.00      0.00        14\n",
      "\n",
      "    accuracy                           0.80        94\n",
      "   macro avg       0.42      0.47      0.44        94\n",
      "weighted avg       0.72      0.80      0.76        94\n",
      "\n",
      "\n",
      "Mean cross validation score: 0.8388190476190476\n",
      "Mean precision score: 0.02857142857142857\n",
      "Mean Recall score: 0.014285714285714285\n",
      "Mean F1 score: 0.019047619047619046\n",
      "Best estimator: DecisionTreeClassifier(criterion='entropy', max_depth=3, min_samples_leaf=6)\n",
      "============================= Naive Bayes =============================\n",
      "Accuracy score:\n",
      " 0.22340425531914893\n",
      "\n",
      "Confusion matrix:\n",
      " [[ 7 73]\n",
      " [ 0 14]]\n",
      "\n",
      "Classification report:\n",
      "               precision    recall  f1-score   support\n",
      "\n",
      "           0       1.00      0.09      0.16        80\n",
      "           1       0.16      1.00      0.28        14\n",
      "\n",
      "    accuracy                           0.22        94\n",
      "   macro avg       0.58      0.54      0.22        94\n",
      "weighted avg       0.88      0.22      0.18        94\n",
      "\n",
      "\n",
      "Mean cross validation score: 0.25330793650793654\n",
      "Mean precision score: 0.16351308611428553\n",
      "Mean Recall score: 0.9857142857142858\n",
      "Mean F1 score: 0.2800593382419691\n",
      "Best estimator: GaussianNB(var_smoothing=1e-05)\n",
      "============================= Random forests =============================\n",
      "Accuracy score:\n",
      " 0.851063829787234\n",
      "\n",
      "Confusion matrix:\n",
      " [[80  0]\n",
      " [14  0]]\n",
      "\n",
      "Classification report:\n",
      "               precision    recall  f1-score   support\n",
      "\n",
      "           0       0.85      1.00      0.92        80\n",
      "           1       0.00      0.00      0.00        14\n",
      "\n",
      "    accuracy                           0.85        94\n",
      "   macro avg       0.43      0.50      0.46        94\n",
      "weighted avg       0.72      0.85      0.78        94\n",
      "\n",
      "\n",
      "Mean cross validation score: 0.8510687830687832\n",
      "Mean precision score: 0.0\n",
      "Mean Recall score: 0.0\n",
      "Mean F1 score: 0.0\n",
      "Best estimator: RandomForestClassifier(max_depth=2, min_samples_leaf=5)\n",
      "============================= LogisiticRegression =============================\n",
      "Accuracy score:\n",
      " 0.851063829787234\n",
      "\n",
      "Confusion matrix:\n",
      " [[80  0]\n",
      " [14  0]]\n",
      "\n",
      "Classification report:\n",
      "               precision    recall  f1-score   support\n",
      "\n",
      "           0       0.85      1.00      0.92        80\n",
      "           1       0.00      0.00      0.00        14\n",
      "\n",
      "    accuracy                           0.85        94\n",
      "   macro avg       0.43      0.50      0.46        94\n",
      "weighted avg       0.72      0.85      0.78        94\n",
      "\n",
      "\n",
      "Mean cross validation score: 0.8510687830687832\n",
      "Mean precision score: 0.0\n",
      "Mean Recall score: 0.0\n",
      "Mean F1 score: 0.0\n",
      "Best estimator: LogisticRegression(C=0.001)\n"
     ]
    }
   ],
   "source": [
    "train_all_models(X, Y)"
   ]
  },
  {
   "cell_type": "code",
   "execution_count": 123,
   "metadata": {},
   "outputs": [
    {
     "name": "stdout",
     "output_type": "stream",
     "text": [
      "============================= KNearest =============================\n",
      "Accuracy score:\n",
      " 0.851063829787234\n",
      "\n",
      "Confusion matrix:\n",
      " [[80  0]\n",
      " [14  0]]\n",
      "\n",
      "Classification report:\n",
      "               precision    recall  f1-score   support\n",
      "\n",
      "           0       0.85      1.00      0.92        80\n",
      "           1       0.00      0.00      0.00        14\n",
      "\n",
      "    accuracy                           0.85        94\n",
      "   macro avg       0.43      0.50      0.46        94\n",
      "weighted avg       0.72      0.85      0.78        94\n",
      "\n",
      "\n",
      "Mean cross validation score: 0.8473396825396827\n",
      "Mean precision score: 0.0\n",
      "Mean Recall score: 0.0\n",
      "Mean F1 score: 0.0\n",
      "Best estimator: KNeighborsClassifier(n_neighbors=4)\n",
      "============================= Support Vector Classifier =============================\n",
      "Accuracy score:\n",
      " 0.8617021276595744\n",
      "\n",
      "Confusion matrix:\n",
      " [[80  0]\n",
      " [13  1]]\n",
      "\n",
      "Classification report:\n",
      "               precision    recall  f1-score   support\n",
      "\n",
      "           0       0.86      1.00      0.92        80\n",
      "           1       1.00      0.07      0.13        14\n",
      "\n",
      "    accuracy                           0.86        94\n",
      "   macro avg       0.93      0.54      0.53        94\n",
      "weighted avg       0.88      0.86      0.81        94\n",
      "\n",
      "\n",
      "Mean cross validation score: 0.8478772486772487\n",
      "Mean precision score: 0.2\n",
      "Mean Recall score: 0.014285714285714285\n",
      "Mean F1 score: 0.026666666666666665\n",
      "Best estimator: SVC(C=0.7, kernel='poly')\n",
      "============================= DecisionTreeClassifier =============================\n",
      "Accuracy score:\n",
      " 0.7978723404255319\n",
      "\n",
      "Confusion matrix:\n",
      " [[75  5]\n",
      " [14  0]]\n",
      "\n",
      "Classification report:\n",
      "               precision    recall  f1-score   support\n",
      "\n",
      "           0       0.84      0.94      0.89        80\n",
      "           1       0.00      0.00      0.00        14\n",
      "\n",
      "    accuracy                           0.80        94\n",
      "   macro avg       0.42      0.47      0.44        94\n",
      "weighted avg       0.72      0.80      0.76        94\n",
      "\n",
      "\n",
      "Mean cross validation score: 0.8414687830687831\n",
      "Mean precision score: 0.02857142857142857\n",
      "Mean Recall score: 0.014285714285714285\n",
      "Mean F1 score: 0.019047619047619046\n",
      "Best estimator: DecisionTreeClassifier(max_depth=3, min_samples_leaf=5)\n",
      "============================= Naive Bayes =============================\n",
      "Accuracy score:\n",
      " 0.7127659574468085\n",
      "\n",
      "Confusion matrix:\n",
      " [[62 18]\n",
      " [ 9  5]]\n",
      "\n",
      "Classification report:\n",
      "               precision    recall  f1-score   support\n",
      "\n",
      "           0       0.87      0.78      0.82        80\n",
      "           1       0.22      0.36      0.27        14\n",
      "\n",
      "    accuracy                           0.71        94\n",
      "   macro avg       0.55      0.57      0.55        94\n",
      "weighted avg       0.78      0.71      0.74        94\n",
      "\n",
      "\n",
      "Mean cross validation score: 0.6925756613756614\n",
      "Mean precision score: 0.2840765514678558\n",
      "Mean Recall score: 0.41428571428571426\n",
      "Mean F1 score: 0.33537758346581875\n",
      "Best estimator: GaussianNB(var_smoothing=1e-05)\n",
      "============================= Random forests =============================\n",
      "Accuracy score:\n",
      " 0.851063829787234\n",
      "\n",
      "Confusion matrix:\n",
      " [[80  0]\n",
      " [14  0]]\n",
      "\n",
      "Classification report:\n",
      "               precision    recall  f1-score   support\n",
      "\n",
      "           0       0.85      1.00      0.92        80\n",
      "           1       0.00      0.00      0.00        14\n",
      "\n",
      "    accuracy                           0.85        94\n",
      "   macro avg       0.43      0.50      0.46        94\n",
      "weighted avg       0.72      0.85      0.78        94\n",
      "\n",
      "\n",
      "Mean cross validation score: 0.8510687830687832\n",
      "Mean precision score: 0.0\n",
      "Mean Recall score: 0.0\n",
      "Mean F1 score: 0.0\n",
      "Best estimator: RandomForestClassifier(max_depth=2, min_samples_leaf=5)\n",
      "============================= LogisiticRegression =============================\n",
      "Accuracy score:\n",
      " 0.851063829787234\n",
      "\n",
      "Confusion matrix:\n",
      " [[80  0]\n",
      " [14  0]]\n",
      "\n",
      "Classification report:\n",
      "               precision    recall  f1-score   support\n",
      "\n",
      "           0       0.85      1.00      0.92        80\n",
      "           1       0.00      0.00      0.00        14\n",
      "\n",
      "    accuracy                           0.85        94\n",
      "   macro avg       0.43      0.50      0.46        94\n",
      "weighted avg       0.72      0.85      0.78        94\n",
      "\n",
      "\n",
      "Mean cross validation score: 0.8510687830687832\n",
      "Mean precision score: 0.0\n",
      "Mean Recall score: 0.0\n",
      "Mean F1 score: 0.0\n",
      "Best estimator: LogisticRegression(C=0.001)\n"
     ]
    }
   ],
   "source": [
    "# Use feature reduction dataset to train the models\n",
    "train_all_models(X_new, Y)"
   ]
  },
  {
   "cell_type": "markdown",
   "metadata": {},
   "source": [
    "#### Results:\n",
    ">1. We observed after feature reduction, there is not much difference in accuracy for the models such as KNN, SVC, Random forest and Logistic Regression.\n",
    ">2. But for decision tree model the accuracy has improved from 79% to 85% while for naive bayes there is a significant increase in accuracy observed from 22% to 76%."
   ]
  },
  {
   "cell_type": "markdown",
   "metadata": {},
   "source": [
    "### Performing Evaluation using oversampling as target feature is imbalanced"
   ]
  },
  {
   "cell_type": "code",
   "execution_count": 48,
   "metadata": {},
   "outputs": [],
   "source": [
    "from imblearn.over_sampling import SMOTE "
   ]
  },
  {
   "cell_type": "code",
   "execution_count": 90,
   "metadata": {},
   "outputs": [],
   "source": [
    "def train_smote_all_models(X, Y, folds=5):\n",
    "    RANDOM_SEED = 0\n",
    "    for clf_name, (clf, params) in classifiers.items():\n",
    "        skf = StratifiedKFold(n_splits=folds, random_state=RANDOM_SEED, shuffle=True)\n",
    "        cv_scores = []\n",
    "        precision_scores = []\n",
    "        recall_scores = []\n",
    "        f1_scores = []\n",
    "        estimators = []\n",
    "        for train_index, test_index in skf.split(X, Y):\n",
    "            X_train, X_test = pd.DataFrame(data=X, index=train_index), pd.DataFrame(data=X, index=test_index)\n",
    "            y_train, y_test = pd.DataFrame(data=Y, index=train_index), pd.DataFrame(data=Y, index=test_index)\n",
    "            #Over Sampling Using SMOTE before validation\n",
    "            sm = SMOTE(random_state = 42) \n",
    "            X_train_smo, y_train_smo = sm.fit_sample(X_train, y_train) \n",
    "            model= get_best_fit(clf, params, X_train_smo, y_train_smo)\n",
    "            estimators.append(model) \n",
    "            scores = cross_val_score(model, X_train_smo, y_train_smo.values.ravel(), cv=3, scoring='accuracy')  #compute the score 3 consecutive times\n",
    "            cv_scores.append(scores)     \n",
    "            y_pred = model.predict(X_test)\n",
    "            precision_scores.append(precision_score(y_test, y_pred))\n",
    "            recall_scores.append(recall_score(y_test, y_pred))\n",
    "            f1_scores.append(f1_score(y_test, y_pred))\n",
    "        print('============================= {} ============================='.format(clf_name))\n",
    "        print('Accuracy score:\\n', accuracy_score(y_test, y_pred))\n",
    "        print()\n",
    "        print('Confusion matrix:\\n', confusion_matrix(y_test, y_pred)) \n",
    "        print()\n",
    "        print('Classification report:\\n', classification_report(y_test, y_pred))\n",
    "        print()\n",
    "        print('Mean cross validation score: {}'.format(np.array([cv_scores]).mean()))\n",
    "        print('Mean precision score: {}'.format(np.array([precision_scores]).mean()))\n",
    "        print('Mean Recall score: {}'.format(np.array([recall_scores]).mean()))\n",
    "        print('Mean F1 score: {}'.format(np.array([f1_scores]).mean()))\n",
    "        best_iteration = recall_scores.index(max(recall_scores))\n",
    "        best_estimator = estimators[best_iteration]\n",
    "        print('Best estimator: {}'.format(estimators[best_iteration]))"
   ]
  },
  {
   "cell_type": "code",
   "execution_count": 92,
   "metadata": {},
   "outputs": [
    {
     "name": "stdout",
     "output_type": "stream",
     "text": [
      "============================= KNearest =============================\n",
      "Accuracy score:\n",
      " 0.6914893617021277\n",
      "\n",
      "Confusion matrix:\n",
      " [[62 18]\n",
      " [11  3]]\n",
      "\n",
      "Classification report:\n",
      "               precision    recall  f1-score   support\n",
      "\n",
      "           0       0.85      0.78      0.81        80\n",
      "           1       0.14      0.21      0.17        14\n",
      "\n",
      "    accuracy                           0.69        94\n",
      "   macro avg       0.50      0.49      0.49        94\n",
      "weighted avg       0.74      0.69      0.72        94\n",
      "\n",
      "\n",
      "Mean cross validation score: 0.7946777236628493\n",
      "Mean precision score: 0.1933095238095238\n",
      "Mean Recall score: 0.2857142857142857\n",
      "Mean F1 score: 0.22509319908334685\n",
      "Best estimator: KNeighborsClassifier(n_neighbors=3, weights='distance')\n",
      "============================= Support Vector Classifier =============================\n",
      "Accuracy score:\n",
      " 0.5212765957446809\n",
      "\n",
      "Confusion matrix:\n",
      " [[44 36]\n",
      " [ 9  5]]\n",
      "\n",
      "Classification report:\n",
      "               precision    recall  f1-score   support\n",
      "\n",
      "           0       0.83      0.55      0.66        80\n",
      "           1       0.12      0.36      0.18        14\n",
      "\n",
      "    accuracy                           0.52        94\n",
      "   macro avg       0.48      0.45      0.42        94\n",
      "weighted avg       0.72      0.52      0.59        94\n",
      "\n",
      "\n",
      "Mean cross validation score: 0.7459933014494026\n",
      "Mean precision score: 0.16036259413285375\n",
      "Mean Recall score: 0.35714285714285715\n",
      "Mean F1 score: 0.2195952195952196\n",
      "Best estimator: SVC(C=100)\n",
      "============================= DecisionTreeClassifier =============================\n",
      "Accuracy score:\n",
      " 0.5638297872340425\n",
      "\n",
      "Confusion matrix:\n",
      " [[48 32]\n",
      " [ 9  5]]\n",
      "\n",
      "Classification report:\n",
      "               precision    recall  f1-score   support\n",
      "\n",
      "           0       0.84      0.60      0.70        80\n",
      "           1       0.14      0.36      0.20        14\n",
      "\n",
      "    accuracy                           0.56        94\n",
      "   macro avg       0.49      0.48      0.45        94\n",
      "weighted avg       0.74      0.56      0.63        94\n",
      "\n",
      "\n",
      "Mean cross validation score: 0.7053646907404972\n",
      "Mean precision score: 0.1329204204204204\n",
      "Mean Recall score: 0.3142857142857143\n",
      "Mean F1 score: 0.17835493519441675\n",
      "Best estimator: DecisionTreeClassifier(criterion='entropy', max_depth=5, min_samples_leaf=7)\n",
      "============================= Naive Bayes =============================\n",
      "Accuracy score:\n",
      " 0.20212765957446807\n",
      "\n",
      "Confusion matrix:\n",
      " [[ 8 72]\n",
      " [ 3 11]]\n",
      "\n",
      "Classification report:\n",
      "               precision    recall  f1-score   support\n",
      "\n",
      "           0       0.73      0.10      0.18        80\n",
      "           1       0.13      0.79      0.23        14\n",
      "\n",
      "    accuracy                           0.20        94\n",
      "   macro avg       0.43      0.44      0.20        94\n",
      "weighted avg       0.64      0.20      0.18        94\n",
      "\n",
      "\n",
      "Mean cross validation score: 0.527512322115455\n",
      "Mean precision score: 0.13464170240060316\n",
      "Mean Recall score: 0.8285714285714285\n",
      "Mean F1 score: 0.2315719211885096\n",
      "Best estimator: GaussianNB(var_smoothing=1e-05)\n",
      "============================= Random forests =============================\n",
      "Accuracy score:\n",
      " 0.5425531914893617\n",
      "\n",
      "Confusion matrix:\n",
      " [[48 32]\n",
      " [11  3]]\n",
      "\n",
      "Classification report:\n",
      "               precision    recall  f1-score   support\n",
      "\n",
      "           0       0.81      0.60      0.69        80\n",
      "           1       0.09      0.21      0.12        14\n",
      "\n",
      "    accuracy                           0.54        94\n",
      "   macro avg       0.45      0.41      0.41        94\n",
      "weighted avg       0.71      0.54      0.61        94\n",
      "\n",
      "\n",
      "Mean cross validation score: 0.74918608222544\n",
      "Mean precision score: 0.1728991060025543\n",
      "Mean Recall score: 0.3571428571428571\n",
      "Mean F1 score: 0.23273872226145134\n",
      "Best estimator: RandomForestClassifier(max_depth=5, min_samples_leaf=6)\n",
      "============================= LogisiticRegression =============================\n",
      "Accuracy score:\n",
      " 0.5531914893617021\n",
      "\n",
      "Confusion matrix:\n",
      " [[47 33]\n",
      " [ 9  5]]\n",
      "\n",
      "Classification report:\n",
      "               precision    recall  f1-score   support\n",
      "\n",
      "           0       0.84      0.59      0.69        80\n",
      "           1       0.13      0.36      0.19        14\n",
      "\n",
      "    accuracy                           0.55        94\n",
      "   macro avg       0.49      0.47      0.44        94\n",
      "weighted avg       0.73      0.55      0.62        94\n",
      "\n",
      "\n",
      "Mean cross validation score: 0.6150322495721995\n",
      "Mean precision score: 0.18172320833542094\n",
      "Mean Recall score: 0.5142857142857143\n",
      "Mean F1 score: 0.2678560831646656\n",
      "Best estimator: LogisticRegression(C=0.1)\n"
     ]
    }
   ],
   "source": [
    "train_smote_all_models(X, Y)"
   ]
  },
  {
   "cell_type": "markdown",
   "metadata": {},
   "source": [
    "##  Even though without oversampling we were getting better accuracy(85%) but it did not handled imbalanced dataset and model will eventually fail in generalizing.Hence, there is a need to handle this issue. AFter appling oversampling when using SMOTE, \"KNN\" turns out to be the best model with n=3 and weight=distance"
   ]
  },
  {
   "cell_type": "code",
   "execution_count": 155,
   "metadata": {},
   "outputs": [],
   "source": [
    "from sklearn.model_selection import train_test_split\n",
    "\n",
    "# Split dataset into training set and test set\n",
    "X_train, X_test, y_train, y_test = train_test_split(X, Y, test_size=0.2,random_state=42) # 80% training and 20% test"
   ]
  },
  {
   "cell_type": "code",
   "execution_count": 156,
   "metadata": {},
   "outputs": [],
   "source": [
    "sm = SMOTE(random_state = 42) \n",
    "X_train_smo, y_train_smo = sm.fit_sample(X_train, y_train) "
   ]
  },
  {
   "cell_type": "code",
   "execution_count": 157,
   "metadata": {},
   "outputs": [
    {
     "name": "stdout",
     "output_type": "stream",
     "text": [
      "Before Oversampling, size of training dataset: (376, 1)\n",
      "After Oversampling, size of training dataset: (650, 1)\n"
     ]
    }
   ],
   "source": [
    "print(\"Before Oversampling, size of training dataset:\",y_train.shape) \n",
    "print(\"After Oversampling, size of training dataset:\",y_train_smo.shape) "
   ]
  },
  {
   "cell_type": "code",
   "execution_count": 158,
   "metadata": {},
   "outputs": [
    {
     "name": "stdout",
     "output_type": "stream",
     "text": [
      "Before Oversampling, size of training dataset: (376, 16)\n",
      "After Oversampling, size of training dataset: (650, 16)\n"
     ]
    }
   ],
   "source": [
    "print(\"Before Oversampling, size of training dataset:\",X_train.shape) \n",
    "print(\"After Oversampling, size of training dataset:\",X_train_smo.shape) "
   ]
  },
  {
   "cell_type": "code",
   "execution_count": 163,
   "metadata": {},
   "outputs": [],
   "source": [
    "# Checking performance using undersampling\n",
    "from imblearn.under_sampling import NearMiss \n",
    "nr = NearMiss() "
   ]
  },
  {
   "cell_type": "code",
   "execution_count": 159,
   "metadata": {},
   "outputs": [],
   "source": [
    "X_train_miss, y_train_miss = nr.fit_sample(X_train, y_train)"
   ]
  },
  {
   "cell_type": "code",
   "execution_count": 160,
   "metadata": {},
   "outputs": [],
   "source": [
    "knn=KNeighborsClassifier(n_neighbors=3, weights='distance')"
   ]
  },
  {
   "cell_type": "code",
   "execution_count": 161,
   "metadata": {},
   "outputs": [],
   "source": [
    "knn.fit(X_train_miss, y_train_miss)\n",
    "y_pred=knn.predict(X_test)"
   ]
  },
  {
   "cell_type": "code",
   "execution_count": 162,
   "metadata": {},
   "outputs": [
    {
     "name": "stdout",
     "output_type": "stream",
     "text": [
      "0.3404255319148936\n"
     ]
    }
   ],
   "source": [
    "print(accuracy_score(y_test, y_pred)) "
   ]
  },
  {
   "cell_type": "markdown",
   "metadata": {},
   "source": [
    "### Undersampling decreases perfromance , hence SMOTE using KNN is our best model"
   ]
  },
  {
   "cell_type": "code",
   "execution_count": null,
   "metadata": {},
   "outputs": [],
   "source": []
  }
 ],
 "metadata": {
  "kernelspec": {
   "display_name": "Python 3",
   "language": "python",
   "name": "python3"
  },
  "language_info": {
   "codemirror_mode": {
    "name": "ipython",
    "version": 3
   },
   "file_extension": ".py",
   "mimetype": "text/x-python",
   "name": "python",
   "nbconvert_exporter": "python",
   "pygments_lexer": "ipython3",
   "version": "3.8.3"
  }
 },
 "nbformat": 4,
 "nbformat_minor": 4
}
